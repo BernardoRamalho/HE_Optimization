{
 "cells": [
  {
   "attachments": {},
   "cell_type": "markdown",
   "metadata": {},
   "source": [
    "## Setup"
   ]
  },
  {
   "cell_type": "code",
   "execution_count": 31,
   "metadata": {},
   "outputs": [],
   "source": [
    "# Imports\n",
    "import os\n",
    "import glob\n",
    "import pandas as pd\n",
    "import matplotlib.pyplot as plt"
   ]
  },
  {
   "cell_type": "code",
   "execution_count": 32,
   "metadata": {},
   "outputs": [
    {
     "data": {
      "text/html": [
       "<div>\n",
       "<style scoped>\n",
       "    .dataframe tbody tr th:only-of-type {\n",
       "        vertical-align: middle;\n",
       "    }\n",
       "\n",
       "    .dataframe tbody tr th {\n",
       "        vertical-align: top;\n",
       "    }\n",
       "\n",
       "    .dataframe thead th {\n",
       "        text-align: right;\n",
       "    }\n",
       "</style>\n",
       "<table border=\"1\" class=\"dataframe\">\n",
       "  <thead>\n",
       "    <tr style=\"text-align: right;\">\n",
       "      <th></th>\n",
       "      <th>type</th>\n",
       "      <th>ringDim</th>\n",
       "      <th>total</th>\n",
       "    </tr>\n",
       "  </thead>\n",
       "  <tbody>\n",
       "    <tr>\n",
       "      <th>0</th>\n",
       "      <td>n16-coef-sum</td>\n",
       "      <td>32</td>\n",
       "      <td>4</td>\n",
       "    </tr>\n",
       "    <tr>\n",
       "      <th>1</th>\n",
       "      <td>n16-coef-sum</td>\n",
       "      <td>32</td>\n",
       "      <td>10</td>\n",
       "    </tr>\n",
       "    <tr>\n",
       "      <th>2</th>\n",
       "      <td>n16-coef-sum</td>\n",
       "      <td>32</td>\n",
       "      <td>21</td>\n",
       "    </tr>\n",
       "    <tr>\n",
       "      <th>3</th>\n",
       "      <td>n16-coef-sum</td>\n",
       "      <td>32</td>\n",
       "      <td>4</td>\n",
       "    </tr>\n",
       "    <tr>\n",
       "      <th>4</th>\n",
       "      <td>n16-coef-sum</td>\n",
       "      <td>32</td>\n",
       "      <td>4</td>\n",
       "    </tr>\n",
       "  </tbody>\n",
       "</table>\n",
       "</div>"
      ],
      "text/plain": [
       "           type   ringDim   total\n",
       "0  n16-coef-sum        32       4\n",
       "1  n16-coef-sum        32      10\n",
       "2  n16-coef-sum        32      21\n",
       "3  n16-coef-sum        32       4\n",
       "4  n16-coef-sum        32       4"
      ]
     },
     "execution_count": 32,
     "metadata": {},
     "output_type": "execute_result"
    }
   ],
   "source": [
    "big_ring_df = pd.read_csv(\"../timeCSVs/bigRingDimTimes.csv\")\n",
    "\n",
    "big_ring_df.drop([' setup', ' encryption', ' homomorphic', ' decryption', ' plaintext', ' value'], axis=1,inplace=True)\n",
    "\n",
    "big_ring_df.head()"
   ]
  },
  {
   "cell_type": "code",
   "execution_count": 33,
   "metadata": {},
   "outputs": [],
   "source": [
    "n16_df = big_ring_df[big_ring_df['type'].str.contains('n16')]\n",
    "n32_df = big_ring_df[big_ring_df['type'].str.contains('n32')]\n",
    "n64_df = big_ring_df[big_ring_df['type'].str.contains('n64')]\n",
    "n128_df = big_ring_df[big_ring_df['type'].str.contains('n128')]\n",
    "n256_df = big_ring_df[big_ring_df['type'].str.contains('n256')]"
   ]
  },
  {
   "cell_type": "code",
   "execution_count": 34,
   "metadata": {},
   "outputs": [],
   "source": [
    "n16_mean_df = n16_df.groupby(['type', ' ringDim'], as_index=False)[' total'].mean()\n",
    "n16_mean_df.loc[n16_mean_df['type'] == 'n16-coef-inner', 'type'] = 'coef_inner_product'\n",
    "n16_mean_df.loc[n16_mean_df['type'] == 'n16-coef-sum', 'type'] = 'coef_sum'\n",
    "n16_mean_df.loc[n16_mean_df['type'] == 'n16-slot-inner', 'type'] = 'slot_inner_product'\n",
    "n16_mean_df.loc[n16_mean_df['type'] == 'n16-slot-sum', 'type'] = 'slot_sum'"
   ]
  },
  {
   "cell_type": "code",
   "execution_count": 35,
   "metadata": {},
   "outputs": [],
   "source": [
    "n32_mean_df = n32_df.groupby(['type', ' ringDim'], as_index=False)[' total'].mean()\n",
    "n32_mean_df.loc[n32_mean_df['type'] == 'n32-coef-inner', 'type'] = 'coef_inner_product'\n",
    "n32_mean_df.loc[n32_mean_df['type'] == 'n32-coef-sum', 'type'] = 'coef_sum'\n",
    "n32_mean_df.loc[n32_mean_df['type'] == 'n32-slot-inner', 'type'] = 'slot_inner_product'\n",
    "n32_mean_df.loc[n32_mean_df['type'] == 'n32-slot-sum', 'type'] = 'slot_sum'"
   ]
  },
  {
   "cell_type": "code",
   "execution_count": 36,
   "metadata": {},
   "outputs": [],
   "source": [
    "n64_mean_df = n64_df.groupby(['type', ' ringDim'], as_index=False)[' total'].mean()\n",
    "n64_mean_df.loc[n64_mean_df['type'] == 'n64-coef-inner', 'type'] = 'coef_inner_product'\n",
    "n64_mean_df.loc[n64_mean_df['type'] == 'n64-coef-sum', 'type'] = 'coef_sum'\n",
    "n64_mean_df.loc[n64_mean_df['type'] == 'n64-slot-inner', 'type'] = 'slot_inner_product'\n",
    "n64_mean_df.loc[n64_mean_df['type'] == 'n64-slot-sum', 'type'] = 'slot_sum'"
   ]
  },
  {
   "cell_type": "code",
   "execution_count": 37,
   "metadata": {},
   "outputs": [],
   "source": [
    "n128_mean_df = n128_df.groupby(['type', ' ringDim'], as_index=False)[' total'].mean()\n",
    "n128_mean_df.loc[n128_mean_df['type'] == 'n128-coef-inner', 'type'] = 'coef_inner_product'\n",
    "n128_mean_df.loc[n128_mean_df['type'] == 'n128-coef-sum', 'type'] = 'coef_sum'\n",
    "n128_mean_df.loc[n128_mean_df['type'] == 'n128-slot-inner', 'type'] = 'slot_inner_product'\n",
    "n128_mean_df.loc[n128_mean_df['type'] == 'n128-slot-sum', 'type'] = 'slot_sum'"
   ]
  },
  {
   "cell_type": "code",
   "execution_count": 38,
   "metadata": {},
   "outputs": [],
   "source": [
    "n256_mean_df = n256_df.groupby(['type', ' ringDim'], as_index=False)[' total'].mean()\n",
    "n256_mean_df.loc[n256_mean_df['type'] == 'n256-coef-inner', 'type'] = 'coef_inner_product'\n",
    "n256_mean_df.loc[n256_mean_df['type'] == 'n256-coef-sum', 'type'] = 'coef_sum'\n",
    "n256_mean_df.loc[n256_mean_df['type'] == 'n256-slot-inner', 'type'] = 'slot_inner_product'\n",
    "n256_mean_df.loc[n256_mean_df['type'] == 'n256-slot-sum', 'type'] = 'slot_sum'"
   ]
  },
  {
   "cell_type": "code",
   "execution_count": 39,
   "metadata": {},
   "outputs": [
    {
     "data": {
      "image/png": "[encoded data removed]",
      "text/plain": [
       "<Figure size 432x288 with 1 Axes>"
      ]
     },
     "metadata": {
      "needs_background": "light"
     },
     "output_type": "display_data"
    }
   ],
   "source": [
    "fig, ax = plt.subplots()\n",
    "\n",
    "ax.plot(n16_mean_df[n16_mean_df['type'] == 'coef_inner_product'][' ringDim'], n16_mean_df[n16_mean_df['type'] == 'coef_inner_product'][' total'], label='coef_inner_product')\n",
    "ax.plot(n16_mean_df[n16_mean_df['type'] == 'coef_sum'][' ringDim'], n16_mean_df[n16_mean_df['type'] == 'coef_sum'][' total'], label='coef_sum')\n",
    "ax.plot(n16_mean_df[n16_mean_df['type'] == 'slot_inner_product'][' ringDim'], n16_mean_df[n16_mean_df['type'] == 'slot_inner_product'][' total'], label='slot_inner_product')\n",
    "ax.plot(n16_mean_df[n16_mean_df['type'] == 'slot_sum'][' ringDim'], n16_mean_df[n16_mean_df['type'] == 'slot_sum'][' total'], label='slot_sum')\n",
    "\n",
    "handles, labels = ax.get_legend_handles_labels()\n",
    "lgd = ax.legend(handles, labels, loc='upper center', bbox_to_anchor=(1.25, 1))\n",
    "ax.set_title(\"Perfomance based on Ring Dimension, 8192 elements\")\n",
    "ax.grid('on')\n",
    "\n",
    "plt.xticks([32, 64, 128, 256, 512])\n",
    "plt.show()"
   ]
  },
  {
   "cell_type": "code",
   "execution_count": 41,
   "metadata": {},
   "outputs": [
    {
     "data": {
      "text/html": [
       "<div>\n",
       "<style scoped>\n",
       "    .dataframe tbody tr th:only-of-type {\n",
       "        vertical-align: middle;\n",
       "    }\n",
       "\n",
       "    .dataframe tbody tr th {\n",
       "        vertical-align: top;\n",
       "    }\n",
       "\n",
       "    .dataframe thead th {\n",
       "        text-align: right;\n",
       "    }\n",
       "</style>\n",
       "<table border=\"1\" class=\"dataframe\">\n",
       "  <thead>\n",
       "    <tr style=\"text-align: right;\">\n",
       "      <th></th>\n",
       "      <th>type</th>\n",
       "      <th>ringDim</th>\n",
       "      <th>total</th>\n",
       "    </tr>\n",
       "  </thead>\n",
       "  <tbody>\n",
       "    <tr>\n",
       "      <th>0</th>\n",
       "      <td>coef_inner_product</td>\n",
       "      <td>256</td>\n",
       "      <td>5.25</td>\n",
       "    </tr>\n",
       "    <tr>\n",
       "      <th>1</th>\n",
       "      <td>coef_inner_product</td>\n",
       "      <td>512</td>\n",
       "      <td>7.19</td>\n",
       "    </tr>\n",
       "    <tr>\n",
       "      <th>2</th>\n",
       "      <td>coef_sum</td>\n",
       "      <td>256</td>\n",
       "      <td>5.60</td>\n",
       "    </tr>\n",
       "    <tr>\n",
       "      <th>3</th>\n",
       "      <td>coef_sum</td>\n",
       "      <td>512</td>\n",
       "      <td>6.16</td>\n",
       "    </tr>\n",
       "    <tr>\n",
       "      <th>4</th>\n",
       "      <td>slot_inner_product</td>\n",
       "      <td>256</td>\n",
       "      <td>8.97</td>\n",
       "    </tr>\n",
       "    <tr>\n",
       "      <th>5</th>\n",
       "      <td>slot_inner_product</td>\n",
       "      <td>512</td>\n",
       "      <td>13.23</td>\n",
       "    </tr>\n",
       "    <tr>\n",
       "      <th>6</th>\n",
       "      <td>slot_sum</td>\n",
       "      <td>256</td>\n",
       "      <td>8.14</td>\n",
       "    </tr>\n",
       "    <tr>\n",
       "      <th>7</th>\n",
       "      <td>slot_sum</td>\n",
       "      <td>512</td>\n",
       "      <td>11.53</td>\n",
       "    </tr>\n",
       "  </tbody>\n",
       "</table>\n",
       "</div>"
      ],
      "text/plain": [
       "                 type   ringDim   total\n",
       "0  coef_inner_product       256    5.25\n",
       "1  coef_inner_product       512    7.19\n",
       "2            coef_sum       256    5.60\n",
       "3            coef_sum       512    6.16\n",
       "4  slot_inner_product       256    8.97\n",
       "5  slot_inner_product       512   13.23\n",
       "6            slot_sum       256    8.14\n",
       "7            slot_sum       512   11.53"
      ]
     },
     "execution_count": 41,
     "metadata": {},
     "output_type": "execute_result"
    }
   ],
   "source": [
    "n128_mean_df"
   ]
  }
 ],
 "metadata": {
  "kernelspec": {
   "display_name": "Python 3",
   "language": "python",
   "name": "python3"
  },
  "language_info": {
   "codemirror_mode": {
    "name": "ipython",
    "version": 3
   },
   "file_extension": ".py",
   "mimetype": "text/x-python",
   "name": "python",
   "nbconvert_exporter": "python",
   "pygments_lexer": "ipython3",
   "version": "3.10.2"
  },
  "orig_nbformat": 4
 },
 "nbformat": 4,
 "nbformat_minor": 2
}
