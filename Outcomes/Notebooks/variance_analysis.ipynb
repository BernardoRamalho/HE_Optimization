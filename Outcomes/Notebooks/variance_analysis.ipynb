{
 "cells": [
  {
   "attachments": {},
   "cell_type": "markdown",
   "metadata": {},
   "source": [
    "# Thesis Outcomes\n",
    "\n",
    "In this notebook I will compare the result I got from all the algorithms I implemented.\n",
    "\n",
    "I will start by comparing both packing methods with each other. Then i will be comparing the Mean, followed by the Inner Product, and finish with the Variance.\n",
    "\n",
    "For all the algorithms I am working with vector of size n = 8192 which are always filled with exactly 8192 values which can be 1, 2 or 3.\n"
   ]
  },
  {
   "attachments": {},
   "cell_type": "markdown",
   "metadata": {},
   "source": [
    "## Setup\n"
   ]
  },
  {
   "cell_type": "code",
   "execution_count": 1,
   "metadata": {},
   "outputs": [],
   "source": [
    "# Imports\n",
    "import os\n",
    "import glob\n",
    "import pandas as pd\n",
    "import matplotlib.pyplot as plt"
   ]
  },
  {
   "cell_type": "code",
   "execution_count": 2,
   "metadata": {},
   "outputs": [],
   "source": [
    "# Function to extract files from folder\n",
    "def get_files(filepath):\n",
    "    all_files = []\n",
    "    for root, dirs, files in os.walk(filepath):\n",
    "            files = glob.glob(os.path.join(root, '*.csv'))\n",
    "            for f in files:\n",
    "                    all_files.append(os.path.abspath(f))\n",
    "    return all_files"
   ]
  },
  {
   "cell_type": "code",
   "execution_count": 5,
   "metadata": {},
   "outputs": [],
   "source": [
    "# Get file names\n",
    "outcomes_CSV = get_files(\"../timeCSVs\")\n",
    "\n",
    "# Import csv as a Dataframe\n",
    "variance_DF = pd.read_csv(outcomes_CSV[4])"
   ]
  },
  {
   "cell_type": "code",
   "execution_count": 6,
   "metadata": {},
   "outputs": [],
   "source": [
    "# Auxiliary Functions\n",
    "\n",
    "def compare_two_types_by_percentage(column1, column2, df):\n",
    "    return ((df.loc[df['Type'] == column2]['Average'].values[0] - df.loc[df['Type'] == column1]['Average'].values[0] )/ df.loc[df['Type'] == column2]['Average'].values[0]) * 100\n",
    "\n",
    "def create_df_for_type(type, setup_averages, encryption_averages, homomorphic_averages):\n",
    "    df = pd.DataFrame(columns=['Time'], index=['Setup', 'Encryption', 'Homomorphic'])\n",
    "\n",
    "    df.loc['Setup'] = float(format(setup_averages[setup_averages['Type'] == type]['Average'].values[0], \".2f\"))\n",
    "    df.loc['Encryption'] = float(format(encryption_averages[encryption_averages['Type'] == type]['Average'].values[0], \".2f\"))\n",
    "    df.loc['Homomorphic'] = float(format(homomorphic_averages[homomorphic_averages['Type'] == type]['Average'].values[0], \".2f\"))\n",
    "\n",
    "    return df"
   ]
  },
  {
   "attachments": {},
   "cell_type": "markdown",
   "metadata": {},
   "source": [
    "## Variance\n",
    "\n",
    "For the variance I have 2 types of implementation.\n",
    "\n",
    "The first algorithm is an expansion of the original formula of the variance.\n",
    "\n",
    "The second comes from a paper.\n"
   ]
  },
  {
   "cell_type": "code",
   "execution_count": 7,
   "metadata": {},
   "outputs": [
    {
     "data": {
      "text/plain": [
       "array(['deduced-slot', 'wu-haven-slot', 'half-size-wu-haven-coef',\n",
       "       'wu-haven-coef', 'deduced-coef'], dtype=object)"
      ]
     },
     "execution_count": 7,
     "metadata": {},
     "output_type": "execute_result"
    }
   ],
   "source": [
    "variance_DF['type'].unique()"
   ]
  },
  {
   "cell_type": "code",
   "execution_count": 17,
   "metadata": {},
   "outputs": [],
   "source": [
    "### Create DF for each type of implementation\n",
    "deduced_slot_DF = variance_DF[variance_DF['type'] == \"deduced-slot\"]\n",
    "deduced_coef_DF = variance_DF[variance_DF['type'] == \"deduced-coef\"]\n",
    "wu_have_slot_DF = variance_DF[variance_DF['type'] == \"wu-haven-slot\"]\n",
    "wu_have_coef_DF = variance_DF[variance_DF['type'] == \"wu-haven-coef\"]\n",
    "half_size_wu_haven_coef_DF = variance_DF[variance_DF['type'] == \"half-size-wu-haven-coef\"]\n",
    "\n",
    "implementation_dfs = {'deduced_slot': deduced_slot_DF,\n",
    "                      'deduced_coef': deduced_coef_DF, \n",
    "                      'wu_haven_slot': wu_have_slot_DF,\n",
    "                      'wu_haven_coef': wu_have_coef_DF,\n",
    "                      'half_size_wu_haven_coef': half_size_wu_haven_coef_DF}"
   ]
  },
  {
   "attachments": {},
   "cell_type": "markdown",
   "metadata": {},
   "source": [
    "### Total Time Comparison\n"
   ]
  },
  {
   "cell_type": "code",
   "execution_count": 18,
   "metadata": {},
   "outputs": [],
   "source": [
    "total_time_averages = pd.DataFrame({'Type': pd.Series(dtype='str'),\n",
    "                                    'Average': pd.Series(dtype='float')})\n",
    "\n",
    "for name, df in implementation_dfs.items():\n",
    "    total_time_averages.loc[len(total_time_averages)] = {'Type': name, 'Average': df[' total'].mean()}"
   ]
  },
  {
   "cell_type": "code",
   "execution_count": 19,
   "metadata": {},
   "outputs": [
    {
     "data": {
      "text/html": [
       "<div>\n",
       "<style scoped>\n",
       "    .dataframe tbody tr th:only-of-type {\n",
       "        vertical-align: middle;\n",
       "    }\n",
       "\n",
       "    .dataframe tbody tr th {\n",
       "        vertical-align: top;\n",
       "    }\n",
       "\n",
       "    .dataframe thead th {\n",
       "        text-align: right;\n",
       "    }\n",
       "</style>\n",
       "<table border=\"1\" class=\"dataframe\">\n",
       "  <thead>\n",
       "    <tr style=\"text-align: right;\">\n",
       "      <th></th>\n",
       "      <th>Type</th>\n",
       "      <th>Average</th>\n",
       "    </tr>\n",
       "  </thead>\n",
       "  <tbody>\n",
       "    <tr>\n",
       "      <th>0</th>\n",
       "      <td>deduced_slot</td>\n",
       "      <td>470.393</td>\n",
       "    </tr>\n",
       "    <tr>\n",
       "      <th>1</th>\n",
       "      <td>deduced_coef</td>\n",
       "      <td>119.160</td>\n",
       "    </tr>\n",
       "    <tr>\n",
       "      <th>2</th>\n",
       "      <td>wu_haven_slot</td>\n",
       "      <td>474.829</td>\n",
       "    </tr>\n",
       "    <tr>\n",
       "      <th>3</th>\n",
       "      <td>wu_haven_coef</td>\n",
       "      <td>134.180</td>\n",
       "    </tr>\n",
       "    <tr>\n",
       "      <th>4</th>\n",
       "      <td>half_size_wu_haven_coef</td>\n",
       "      <td>287.556</td>\n",
       "    </tr>\n",
       "  </tbody>\n",
       "</table>\n",
       "</div>"
      ],
      "text/plain": [
       "                      Type  Average\n",
       "0             deduced_slot  470.393\n",
       "1             deduced_coef  119.160\n",
       "2            wu_haven_slot  474.829\n",
       "3            wu_haven_coef  134.180\n",
       "4  half_size_wu_haven_coef  287.556"
      ]
     },
     "execution_count": 19,
     "metadata": {},
     "output_type": "execute_result"
    }
   ],
   "source": [
    "total_time_averages"
   ]
  },
  {
   "cell_type": "code",
   "execution_count": 20,
   "metadata": {},
   "outputs": [
    {
     "data": {
      "text/plain": [
       "[Text(0, 0, '470.393'),\n",
       " Text(0, 0, '119.16'),\n",
       " Text(0, 0, '474.829'),\n",
       " Text(0, 0, '134.18'),\n",
       " Text(0, 0, '287.556')]"
      ]
     },
     "execution_count": 20,
     "metadata": {},
     "output_type": "execute_result"
    },
    {
     "data": {
      "image/png": "[encoded data removed]",
      "text/plain": [
       "<Figure size 432x288 with 1 Axes>"
      ]
     },
     "metadata": {
      "needs_background": "light"
     },
     "output_type": "display_data"
    }
   ],
   "source": [
    "ax = total_time_averages.plot.barh(x='Type', ylabel='Time (ms)', color='green', title='Total Run Time')\n",
    "ax.set_xlabel('Time (ms)')\n",
    "ax.bar_label(ax.containers[0], label_type='center')\n"
   ]
  },
  {
   "cell_type": "code",
   "execution_count": 26,
   "metadata": {},
   "outputs": [],
   "source": [
    "# Compare both slot implementation\n",
    "deduced_slot_vs_wu_haven_slot = format(compare_two_types_by_percentage(\"deduced_slot\", \"wu_haven_slot\", total_time_averages),\n",
    "                             \".2f\")\n",
    "\n",
    "# Compare Coef\n",
    "deduced_coef_vs_wu_haven_coef = format(compare_two_types_by_percentage(\"deduced_coef\", \"wu_haven_coef\", total_time_averages),\n",
    "                               \".2f\")\n",
    "\n",
    "# Compare wu haven Coef vs half size wu haven\n",
    "wu_haven_coef_vs_half_size_wu_haven_coef = format(compare_two_types_by_percentage(\"wu_haven_coef\", \"half_size_wu_haven_coef\", total_time_averages),\n",
    "                               \".2f\")\n",
    "\n",
    "# Compare wu haven coef vs  slot implementation\n",
    "wu_haven_coef_vs_wu_haven_slot = format(compare_two_types_by_percentage(\"wu_haven_coef\", \"wu_haven_slot\", total_time_averages),\n",
    "                             \".2f\")\n",
    "\n",
    "# Compare deduced Coef vs slot\n",
    "deduced_coef_vs_deduced_coef = format(compare_two_types_by_percentage(\"deduced_coef\", \"deduced_slot\", total_time_averages),\n",
    "                               \".2f\")\n"
   ]
  },
  {
   "attachments": {},
   "cell_type": "markdown",
   "metadata": {},
   "source": [
    "### Time per phase\n"
   ]
  },
  {
   "attachments": {},
   "cell_type": "markdown",
   "metadata": {},
   "source": [
    "I divided the algorithms in 5 phases: setup, encryption, homomorphic operations, decryption, plaintext operations.\n",
    "\n",
    "The Setup Time includes the time it takes to generate all the parameters needed, generate the rotation keys needed, and the time it takes to pre process the values.\n",
    "\n",
    "The Encryption is the time it takes to encrypt all the needed ciphertexts.\n",
    "\n",
    "The Homomorphic Operation is the time it takes to execute all the homomorphic operations needed.\n",
    "\n",
    "The Decryption is the time it takes to decrypt all the ciphertexts. Since we end up only decrypting one ciphertext, I don't use time for comparison.\n",
    "\n",
    "The Plaintext Operation is the time it takes to execute all the operations over plaintexts. This is also not gonna be used because i would only do, at most, 1 plaintext operation and since it is plaintext it is the always the same value (it is not influenced by homomorphic scheme or packing type)\n"
   ]
  },
  {
   "cell_type": "code",
   "execution_count": 22,
   "metadata": {},
   "outputs": [],
   "source": [
    "### Create a DataFrame for each phase with the average of each type of algorithm\n",
    "\n",
    "# Setup\n",
    "setup_averages = pd.DataFrame({'Type': pd.Series(dtype='str'),\n",
    "                                    'Average': pd.Series(dtype='float')})\n",
    "\n",
    "for name, df in implementation_dfs.items():\n",
    "    setup_averages.loc[len(setup_averages)] = {'Type': name, 'Average': df[' setup'].mean()}\n",
    "\n",
    "# Encryption\n",
    "encryption_averages = pd.DataFrame({'Type': pd.Series(dtype='str'),\n",
    "                                    'Average': pd.Series(dtype='float')})\n",
    "\n",
    "for name, df in implementation_dfs.items():\n",
    "    encryption_averages.loc[len(encryption_averages)] = {'Type': name, 'Average': df[' encryption'].mean()}\n",
    "\n",
    "# Homomorphic\n",
    "homomorphic_averages = pd.DataFrame({'Type': pd.Series(dtype='str'),\n",
    "                                    'Average': pd.Series(dtype='float')})\n",
    "\n",
    "for name, df in implementation_dfs.items():\n",
    "    homomorphic_averages.loc[len(homomorphic_averages)] = {'Type': name, 'Average': df[' homomorphic'].mean()}"
   ]
  },
  {
   "cell_type": "code",
   "execution_count": 23,
   "metadata": {},
   "outputs": [
    {
     "data": {
      "text/html": [
       "<div>\n",
       "<style scoped>\n",
       "    .dataframe tbody tr th:only-of-type {\n",
       "        vertical-align: middle;\n",
       "    }\n",
       "\n",
       "    .dataframe tbody tr th {\n",
       "        vertical-align: top;\n",
       "    }\n",
       "\n",
       "    .dataframe thead th {\n",
       "        text-align: right;\n",
       "    }\n",
       "</style>\n",
       "<table border=\"1\" class=\"dataframe\">\n",
       "  <thead>\n",
       "    <tr style=\"text-align: right;\">\n",
       "      <th></th>\n",
       "      <th>Type</th>\n",
       "      <th>Average</th>\n",
       "    </tr>\n",
       "  </thead>\n",
       "  <tbody>\n",
       "    <tr>\n",
       "      <th>0</th>\n",
       "      <td>deduced_slot</td>\n",
       "      <td>162.272</td>\n",
       "    </tr>\n",
       "    <tr>\n",
       "      <th>1</th>\n",
       "      <td>deduced_coef</td>\n",
       "      <td>25.274</td>\n",
       "    </tr>\n",
       "    <tr>\n",
       "      <th>2</th>\n",
       "      <td>wu_haven_slot</td>\n",
       "      <td>173.360</td>\n",
       "    </tr>\n",
       "    <tr>\n",
       "      <th>3</th>\n",
       "      <td>wu_haven_coef</td>\n",
       "      <td>29.809</td>\n",
       "    </tr>\n",
       "    <tr>\n",
       "      <th>4</th>\n",
       "      <td>half_size_wu_haven_coef</td>\n",
       "      <td>91.863</td>\n",
       "    </tr>\n",
       "  </tbody>\n",
       "</table>\n",
       "</div>"
      ],
      "text/plain": [
       "                      Type  Average\n",
       "0             deduced_slot  162.272\n",
       "1             deduced_coef   25.274\n",
       "2            wu_haven_slot  173.360\n",
       "3            wu_haven_coef   29.809\n",
       "4  half_size_wu_haven_coef   91.863"
      ]
     },
     "execution_count": 23,
     "metadata": {},
     "output_type": "execute_result"
    }
   ],
   "source": [
    "homomorphic_averages"
   ]
  },
  {
   "cell_type": "code",
   "execution_count": 35,
   "metadata": {},
   "outputs": [],
   "source": [
    "# Setup Operations Comparison\n",
    "\n",
    "# Compare wu haven Coef vs Slot\n",
    "setup_wu_haven_coef_vs_slot = format(compare_two_types_by_percentage(\"wu_haven_coef\", \"wu_haven_slot\", setup_averages),\n",
    "                               \".2f\")\n",
    "\n",
    "# Compare deduced Coef vs Slot\n",
    "setup_deduced_coef_vs_slot = format(compare_two_types_by_percentage(\"deduced_coef\", \"deduced_slot\", setup_averages),\n",
    "                               \".2f\")\n",
    "\n",
    "# Compare wu haven Coef vs Half size\n",
    "setup_wu_haven_coef_vs_half_size = format(compare_two_types_by_percentage(\"wu_haven_coef\", \"half_size_wu_haven_coef\", setup_averages),\n",
    "                               \".2f\")\n",
    "\n",
    "#                 #\n",
    "#   Encryption    #\n",
    "#                 #\n",
    "\n",
    "# Compare wu haven Coef vs Slot\n",
    "encryption_wu_haven_coef_vs_slot = format(compare_two_types_by_percentage(\"wu_haven_slot\", \"wu_haven_coef\", encryption_averages),\n",
    "                               \".2f\")\n",
    "\n",
    "# Compare deduced Coef vs Slot\n",
    "encryption_deduced_coef_vs_slot = format(compare_two_types_by_percentage(\"deduced_slot\", \"deduced_coef\", encryption_averages),\n",
    "                               \".2f\")\n",
    "\n",
    "# Compare wu haven Coef vs Half size\n",
    "encryption_wu_haven_coef_vs_half_size = format(compare_two_types_by_percentage(\"wu_haven_coef\", \"half_size_wu_haven_coef\", encryption_averages),\n",
    "                               \".2f\")\n",
    "\n",
    "# Compare wu haven Coef vs deducted\n",
    "encryption_deduced_coef_vs_wu_haven = format(compare_two_types_by_percentage(\"deduced_coef\", \"wu_haven_coef\", encryption_averages),\n",
    "                               \".2f\")                       \n",
    "\n",
    "#                  #\n",
    "#   Homomorphic    #\n",
    "#                  #\n",
    "\n",
    "# Compare wu haven Coef vs Slot\n",
    "homomorphic_wu_haven_coef_vs_slot = format(compare_two_types_by_percentage(\"wu_haven_coef\", \"wu_haven_slot\", homomorphic_averages),\n",
    "                               \".2f\")\n",
    "\n",
    "# Compare deduced Coef vs Slot\n",
    "homomorphic_deduced_coef_vs_slot = format(compare_two_types_by_percentage(\"deduced_coef\", \"deduced_slot\", homomorphic_averages),\n",
    "                               \".2f\")\n",
    "\n",
    "# Compare wu haven Coef vs Half size\n",
    "homomorphic_wu_haven_coef_vs_half_size = format(compare_two_types_by_percentage(\"wu_haven_coef\", \"half_size_wu_haven_coef\", homomorphic_averages),\n",
    "                               \".2f\")\n"
   ]
  },
  {
   "cell_type": "code",
   "execution_count": 31,
   "metadata": {},
   "outputs": [
    {
     "data": {
      "text/plain": [
       "[Text(50, 0, '162.272'),\n",
       " Text(50, 0, '25.274'),\n",
       " Text(50, 0, '173.36'),\n",
       " Text(50, 0, '29.809'),\n",
       " Text(50, 0, '91.863')]"
      ]
     },
     "execution_count": 31,
     "metadata": {},
     "output_type": "execute_result"
    },
    {
     "data": {
      "image/png": "[encoded data removed]",
      "text/plain": [
       "<Figure size 432x288 with 1 Axes>"
      ]
     },
     "metadata": {
      "needs_background": "light"
     },
     "output_type": "display_data"
    },
    {
     "data": {
      "image/png": "[encoded data removed]",
      "text/plain": [
       "<Figure size 432x288 with 1 Axes>"
      ]
     },
     "metadata": {
      "needs_background": "light"
     },
     "output_type": "display_data"
    },
    {
     "data": {
      "image/png": "[encoded data removed]",
      "text/plain": [
       "<Figure size 432x288 with 1 Axes>"
      ]
     },
     "metadata": {
      "needs_background": "light"
     },
     "output_type": "display_data"
    }
   ],
   "source": [
    "### Plot a graph for each phase\n",
    "\n",
    "# Setup\n",
    "ax = setup_averages.plot.barh(x='Type', color='green', title='Setup Duration')\n",
    "ax.set_xlabel('Time (ms)')\n",
    "ax.bar_label(ax.containers[0], label_type='center')\n",
    "\n",
    "# Encryption\n",
    "ax = encryption_averages.plot.barh(x='Type', color='green', title='Encryption Duration')\n",
    "ax.set_xlabel('Time (ms)')\n",
    "ax.bar_label(ax.containers[0], label_type='center')\n",
    "\n",
    "# Homomorphic\n",
    "# Needs two graphs because the values ara in a huge range\n",
    "ax = homomorphic_averages.plot.barh(x='Type', ylabel='Time (ms)', color='green', title='Homomorphic Operation Duration')\n",
    "ax.set_xlabel('Time (ms)')\n",
    "ax.bar_label(ax.containers[0], label_type='center', padding=50)"
   ]
  },
  {
   "cell_type": "code",
   "execution_count": 36,
   "metadata": {},
   "outputs": [
    {
     "name": "stdout",
     "output_type": "stream",
     "text": [
      "Total Time:\n",
      "Deduced vs Wu Haven Slot: 0.93%\n",
      "Deduced vs Wu Haven Coef: 11.19%\n",
      "Wu Haven Coef vs Half Size: 53.34%\n",
      "Wu Haven Coef vs Wu Haven Slot: 71.74%\n",
      "Deduced Coef vs Deduced Slot: 74.67%\n",
      "\n",
      "Setup Operations:\n",
      "Wu Haven Coef vs Slot: 79.58%\n",
      "Deduced Coef vs Slot: 81.98%\n",
      "Wu Haven Coef vs Half Size: 56.83%\n",
      "Wu Haven Coef vs Deduced: 11.08%\n",
      "\n",
      "Encrypt Operations:\n",
      "Wu Haven Coef vs Slot: 73.61%\n",
      "Deduced Coef vs Slot: 69.50%\n",
      "Wu Haven Coef vs Half Size: 26.89%\n",
      "\n",
      "Homomorphic Operations:\n",
      "Wu Haven Coef vs Slot: 82.81%\n",
      "Deduced Coef vs Slot: 84.42%\n",
      "Wu Haven Coef vs Half Size: 67.55%\n"
     ]
    }
   ],
   "source": [
    "print(\"Total Time:\")\n",
    "print(\"Deduced vs Wu Haven Slot: \" + str(deduced_slot_vs_wu_haven_slot) + \"%\")\n",
    "print(\"Deduced vs Wu Haven Coef: \" + str(deduced_coef_vs_wu_haven_coef) + \"%\")\n",
    "print(\"Wu Haven Coef vs Half Size: \" + str(wu_haven_coef_vs_half_size_wu_haven_coef) + \"%\")\n",
    "print(\"Wu Haven Coef vs Wu Haven Slot: \" + str(wu_haven_coef_vs_wu_haven_slot) + \"%\")\n",
    "print(\"Deduced Coef vs Deduced Slot: \" + str(deduced_coef_vs_deduced_coef) + \"%\")\n",
    "\n",
    "print(\"\\nSetup Operations:\")\n",
    "print(\"Wu Haven Coef vs Slot: \" + str(setup_wu_haven_coef_vs_slot) + \"%\")\n",
    "print(\"Deduced Coef vs Slot: \" + str(setup_deduced_coef_vs_slot) + \"%\")\n",
    "print(\"Wu Haven Coef vs Half Size: \" + str(setup_wu_haven_coef_vs_half_size) + \"%\")\n",
    "print(\"Wu Haven Coef vs Deduced: \" + str(encryption_deduced_coef_vs_wu_haven) + \"%\")\n",
    "\n",
    "print(\"\\nEncrypt Operations:\")\n",
    "print(\"Wu Haven Coef vs Slot: \" + str(encryption_wu_haven_coef_vs_slot) + \"%\")\n",
    "print(\"Deduced Coef vs Slot: \" + str(encryption_deduced_coef_vs_slot) + \"%\")\n",
    "print(\"Wu Haven Coef vs Half Size: \" + str(encryption_wu_haven_coef_vs_half_size) + \"%\")\n",
    "\n",
    "print(\"\\nHomomorphic Operations:\")\n",
    "print(\"Wu Haven Coef vs Slot: \" + str(homomorphic_wu_haven_coef_vs_slot) + \"%\")\n",
    "print(\"Deduced Coef vs Slot: \" + str(homomorphic_deduced_coef_vs_slot) + \"%\")\n",
    "print(\"Wu Haven Coef vs Half Size: \" + str(homomorphic_wu_haven_coef_vs_half_size) + \"%\")\n"
   ]
  },
  {
   "attachments": {},
   "cell_type": "markdown",
   "metadata": {},
   "source": [
    "### Conclusion\n",
    "\n",
    "In terms of setup, the results are as expected, the coefficient algorithms are faster since generating the rotation evaluation keys is very costly when compared to only inverting a vector.\n",
    "\n",
    "For the encryption, this is where the slot implementation have a better perfomance. For the Wu Haven method, we have that using slot packing is 73,58% faster, while in the deduced method it is 69,5%.\n",
    "\n",
    "Altough in the half size implementation we have to encrypt twice the number of ciphertexts, compared to the normal implementation, the encryption time is only 26,89% slower.\n",
    "\n",
    "The times for the homomorphic operations are as expected since coefficient packing's multiplications are way faster than the slot packing.\n",
    "\n",
    "Although the coefficient packing is slower in the encryption phase, it compensates in the homomorphic operations and in the setup phase.\n",
    "It is 84,42% faster in the deduced method and 82,81% faster in the Wu Haven mehtod.\n",
    "\n",
    "All in all, in termos of the algorithms, they are very similiar in terms of perfomance, having a diference of aproximatelly 5ms (independent of being slot or coefficient packing).\n",
    "The fastest implementations of the algorithms are the ones using coefficient packing.\n",
    "Using coefficient packing, in the Wu Haven method, is 71,74% faster than using slot packing and, in the deduced method, is 74,67% faster.\n"
   ]
  }
 ],
 "metadata": {
  "kernelspec": {
   "display_name": "Python 3",
   "language": "python",
   "name": "python3"
  },
  "language_info": {
   "codemirror_mode": {
    "name": "ipython",
    "version": 3
   },
   "file_extension": ".py",
   "mimetype": "text/x-python",
   "name": "python",
   "nbconvert_exporter": "python",
   "pygments_lexer": "ipython3",
   "version": "3.10.2"
  },
  "orig_nbformat": 4
 },
 "nbformat": 4,
 "nbformat_minor": 2
}
