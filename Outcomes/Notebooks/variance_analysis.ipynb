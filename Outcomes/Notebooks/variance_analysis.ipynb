{
 "cells": [
  {
   "attachments": {},
   "cell_type": "markdown",
   "metadata": {},
   "source": [
    "# Thesis Outcomes\n",
    "\n",
    "In this notebook I will compare the result I got from all the algorithms I implemented. \n",
    "\n",
    "I will start by comparing both packing methods with each other. Then i will be comparing the Mean, followed by the Inner Product, and finish with the Variance.\n",
    "\n",
    "For all the algorithms I am working with vector of size n = 8192 which are always filled with exactly 8192 values which can be 1, 2 or 3."
   ]
  },
  {
   "attachments": {},
   "cell_type": "markdown",
   "metadata": {},
   "source": [
    "## Setup"
   ]
  },
  {
   "cell_type": "code",
   "execution_count": 2,
   "metadata": {},
   "outputs": [],
   "source": [
    "# Imports\n",
    "import os\n",
    "import glob\n",
    "import pandas as pd\n",
    "import matplotlib.pyplot as plt"
   ]
  },
  {
   "cell_type": "code",
   "execution_count": 3,
   "metadata": {},
   "outputs": [],
   "source": [
    "# Function to extract files from folder\n",
    "def get_files(filepath):\n",
    "    all_files = []\n",
    "    for root, dirs, files in os.walk(filepath):\n",
    "            files = glob.glob(os.path.join(root, '*.csv'))\n",
    "            for f in files:\n",
    "                    all_files.append(os.path.abspath(f))\n",
    "    return all_files"
   ]
  },
  {
   "cell_type": "code",
   "execution_count": 4,
   "metadata": {},
   "outputs": [
    {
     "name": "stdout",
     "output_type": "stream",
     "text": [
      "c:\\Users\\berna\\Desktop\\Personal\\FEUP\\Thesis\\Project\\HE_Optimization\\Outcomes\\timeCSVs\\innerProduct.csv\n",
      "c:\\Users\\berna\\Desktop\\Personal\\FEUP\\Thesis\\Project\\HE_Optimization\\Outcomes\\timeCSVs\\mean.csv\n",
      "c:\\Users\\berna\\Desktop\\Personal\\FEUP\\Thesis\\Project\\HE_Optimization\\Outcomes\\timeCSVs\\variance.csv\n"
     ]
    }
   ],
   "source": [
    "# Get file names\n",
    "outcomes_CSV = get_files(\"../timeCSVs\")\n",
    "\n",
    "# Import csv as a Dataframe\n",
    "print(outcomes_CSV[0])\n",
    "inner_Product_DF = pd.read_csv(outcomes_CSV[0])\n",
    "print(outcomes_CSV[1])\n",
    "mean_DF = pd.read_csv(outcomes_CSV[1])\n",
    "print(outcomes_CSV[2])\n",
    "variance_DF = pd.read_csv(outcomes_CSV[2])"
   ]
  },
  {
   "cell_type": "code",
   "execution_count": 5,
   "metadata": {},
   "outputs": [],
   "source": [
    "# Auxiliary Functions\n",
    "\n",
    "def compare_two_types_by_percentage(column1, column2, df):\n",
    "    return ((df.loc[df['Type'] == column2]['Average'].values[0] - df.loc[df['Type'] == column1]['Average'].values[0] )/ df.loc[df['Type'] == column2]['Average'].values[0]) * 100\n",
    "\n",
    "def create_df_for_type(type, setup_averages, encryption_averages, homomorphic_averages):\n",
    "    df = pd.DataFrame(columns=['Time'], index=['Setup', 'Encryption', 'Homomorphic'])\n",
    "\n",
    "    df.loc['Setup'] = float(format(setup_averages[setup_averages['Type'] == type]['Average'].values[0], \".2f\"))\n",
    "    df.loc['Encryption'] = float(format(encryption_averages[encryption_averages['Type'] == type]['Average'].values[0], \".2f\"))\n",
    "    df.loc['Homomorphic'] = float(format(homomorphic_averages[homomorphic_averages['Type'] == type]['Average'].values[0], \".2f\"))\n",
    "\n",
    "    return df"
   ]
  },
  {
   "attachments": {},
   "cell_type": "markdown",
   "metadata": {},
   "source": [
    "## Variance\n",
    "\n",
    "For the variance I have 2 types of implementation.\n",
    "\n",
    "The first algorithm is an expansion of the original formula of the variance.\n",
    "\n",
    "The second comes from a paper."
   ]
  },
  {
   "cell_type": "code",
   "execution_count": 6,
   "metadata": {},
   "outputs": [
    {
     "data": {
      "text/plain": [
       "array(['sum-squares-slot', 'inner-product-slot', 'half-size-inner-coef'],\n",
       "      dtype=object)"
      ]
     },
     "execution_count": 6,
     "metadata": {},
     "output_type": "execute_result"
    }
   ],
   "source": [
    "variance_DF['type'].unique()"
   ]
  },
  {
   "cell_type": "code",
   "execution_count": 15,
   "metadata": {},
   "outputs": [],
   "source": [
    "### Create DF for each type of implementation\n",
    "sum_squares_slot_DF = variance_DF[variance_DF['type'] == \"sum-squares-slot\"]\n",
    "inner_product_slot_DF = variance_DF[variance_DF['type'] == \"inner-product-slot\"]\n",
    "half_sized_inner_coef_DF = variance_DF[variance_DF['type'] == \"half-size-inner-coef\"]\n",
    "\n",
    "implementation_dfs = {'sum_squares_slot': sum_squares_slot_DF,'inner_product_slot': inner_product_slot_DF, 'half_sized_inner_coef': half_sized_inner_coef_DF}"
   ]
  },
  {
   "attachments": {},
   "cell_type": "markdown",
   "metadata": {},
   "source": [
    "### Total Time Comparison"
   ]
  },
  {
   "cell_type": "code",
   "execution_count": 16,
   "metadata": {},
   "outputs": [],
   "source": [
    "total_time_averages = pd.DataFrame({'Type': pd.Series(dtype='str'),\n",
    "                                    'Average': pd.Series(dtype='float')})\n",
    "\n",
    "for name, df in implementation_dfs.items():\n",
    "    total_time_averages.loc[len(total_time_averages)] = {'Type': name, 'Average': df[' total'].mean()}"
   ]
  },
  {
   "cell_type": "code",
   "execution_count": 17,
   "metadata": {},
   "outputs": [
    {
     "data": {
      "text/html": [
       "<div>\n",
       "<style scoped>\n",
       "    .dataframe tbody tr th:only-of-type {\n",
       "        vertical-align: middle;\n",
       "    }\n",
       "\n",
       "    .dataframe tbody tr th {\n",
       "        vertical-align: top;\n",
       "    }\n",
       "\n",
       "    .dataframe thead th {\n",
       "        text-align: right;\n",
       "    }\n",
       "</style>\n",
       "<table border=\"1\" class=\"dataframe\">\n",
       "  <thead>\n",
       "    <tr style=\"text-align: right;\">\n",
       "      <th></th>\n",
       "      <th>Type</th>\n",
       "      <th>Average</th>\n",
       "    </tr>\n",
       "  </thead>\n",
       "  <tbody>\n",
       "    <tr>\n",
       "      <th>0</th>\n",
       "      <td>sum_squares_slot</td>\n",
       "      <td>478.477</td>\n",
       "    </tr>\n",
       "    <tr>\n",
       "      <th>1</th>\n",
       "      <td>inner_product_slot</td>\n",
       "      <td>496.619</td>\n",
       "    </tr>\n",
       "    <tr>\n",
       "      <th>2</th>\n",
       "      <td>half_sized_inner_coef</td>\n",
       "      <td>300.630</td>\n",
       "    </tr>\n",
       "  </tbody>\n",
       "</table>\n",
       "</div>"
      ],
      "text/plain": [
       "                    Type  Average\n",
       "0       sum_squares_slot  478.477\n",
       "1     inner_product_slot  496.619\n",
       "2  half_sized_inner_coef  300.630"
      ]
     },
     "execution_count": 17,
     "metadata": {},
     "output_type": "execute_result"
    }
   ],
   "source": [
    "total_time_averages"
   ]
  },
  {
   "cell_type": "code",
   "execution_count": 18,
   "metadata": {},
   "outputs": [
    {
     "data": {
      "text/plain": [
       "[Text(0, 0, '478.477'), Text(0, 0, '496.619'), Text(0, 0, '300.63')]"
      ]
     },
     "execution_count": 18,
     "metadata": {},
     "output_type": "execute_result"
    },
    {
     "data": {
      "image/png": "[encoded data removed]",
      "text/plain": [
       "<Figure size 432x288 with 1 Axes>"
      ]
     },
     "metadata": {
      "needs_background": "light"
     },
     "output_type": "display_data"
    }
   ],
   "source": [
    "ax = total_time_averages.plot.barh(x='Type', ylabel='Time (ms)', color='green', title='Total Run Time of Inneficient Algorithms')\n",
    "ax.set_xlabel('Time (ms)')\n",
    "ax.bar_label(ax.containers[0], label_type='center')\n"
   ]
  },
  {
   "cell_type": "code",
   "execution_count": 28,
   "metadata": {},
   "outputs": [],
   "source": [
    "# Compare both slot implementation\n",
    "sum_squares_slot_vs_inner_prod_slot = format(compare_two_types_by_percentage(\"sum_squares_slot\", \"inner_product_slot\", total_time_averages),\n",
    "                             \".2f\")\n",
    "\n",
    "# Compare Coef vs Inner produc slot\n",
    "coef_vs_inner_product_slot = format(compare_two_types_by_percentage(\"half_sized_inner_coef\", \"inner_product_slot\", total_time_averages),\n",
    "                               \".2f\")\n",
    "\n",
    "# ompare Coef vs Sum square slot\n",
    "coef_vs_sum_square_slot = format(compare_two_types_by_percentage(\"half_sized_inner_coef\", \"sum_squares_slot\", total_time_averages),\n",
    "                               \".2f\")"
   ]
  },
  {
   "attachments": {},
   "cell_type": "markdown",
   "metadata": {},
   "source": [
    "### Time per phase"
   ]
  },
  {
   "attachments": {},
   "cell_type": "markdown",
   "metadata": {},
   "source": [
    "I divided the algorithms in 5 phases: setup, encryption, homomorphic operations, decryption, plaintext operations.\n",
    "\n",
    "The Setup Time includes the time it takes to generate all the parameters needed, generate the rotation keys needed, and the time it takes to pre process the values.\n",
    "\n",
    "The Encryption is the time it takes to encrypt all the needed ciphertexts.\n",
    "\n",
    "The Homomorphic Operation is the time it takes to execute all the homomorphic operations needed.\n",
    "\n",
    "The Decryption is the time it takes to decrypt all the ciphertexts. Since we end up only decrypting one ciphertext, I don't use time for comparison.\n",
    "\n",
    "The Plaintext Operation is the time it takes to execute all the operations over plaintexts. This is also not gonna be used because i would only do, at most, 1 plaintext operation and since it is plaintext it is the always the same value (it is not influenced by homomorphic scheme or packing type)"
   ]
  },
  {
   "cell_type": "code",
   "execution_count": 20,
   "metadata": {},
   "outputs": [],
   "source": [
    "### Create a DataFrame for each phase with the average of each type of algorithm\n",
    "\n",
    "# Setup\n",
    "setup_averages = pd.DataFrame({'Type': pd.Series(dtype='str'),\n",
    "                                    'Average': pd.Series(dtype='float')})\n",
    "\n",
    "for name, df in implementation_dfs.items():\n",
    "    setup_averages.loc[len(setup_averages)] = {'Type': name, 'Average': df[' setup'].mean()}\n",
    "\n",
    "# Encryption\n",
    "encryption_averages = pd.DataFrame({'Type': pd.Series(dtype='str'),\n",
    "                                    'Average': pd.Series(dtype='float')})\n",
    "\n",
    "for name, df in implementation_dfs.items():\n",
    "    encryption_averages.loc[len(encryption_averages)] = {'Type': name, 'Average': df[' encryption'].mean()}\n",
    "\n",
    "# Homomorphic\n",
    "homomorphic_averages = pd.DataFrame({'Type': pd.Series(dtype='str'),\n",
    "                                    'Average': pd.Series(dtype='float')})\n",
    "\n",
    "for name, df in implementation_dfs.items():\n",
    "    homomorphic_averages.loc[len(homomorphic_averages)] = {'Type': name, 'Average': df[' homomorphic'].mean()}"
   ]
  },
  {
   "cell_type": "code",
   "execution_count": 25,
   "metadata": {},
   "outputs": [
    {
     "data": {
      "text/html": [
       "<div>\n",
       "<style scoped>\n",
       "    .dataframe tbody tr th:only-of-type {\n",
       "        vertical-align: middle;\n",
       "    }\n",
       "\n",
       "    .dataframe tbody tr th {\n",
       "        vertical-align: top;\n",
       "    }\n",
       "\n",
       "    .dataframe thead th {\n",
       "        text-align: right;\n",
       "    }\n",
       "</style>\n",
       "<table border=\"1\" class=\"dataframe\">\n",
       "  <thead>\n",
       "    <tr style=\"text-align: right;\">\n",
       "      <th></th>\n",
       "      <th>Type</th>\n",
       "      <th>Average</th>\n",
       "    </tr>\n",
       "  </thead>\n",
       "  <tbody>\n",
       "    <tr>\n",
       "      <th>0</th>\n",
       "      <td>sum_squares_slot</td>\n",
       "      <td>164.293</td>\n",
       "    </tr>\n",
       "    <tr>\n",
       "      <th>1</th>\n",
       "      <td>inner_product_slot</td>\n",
       "      <td>182.141</td>\n",
       "    </tr>\n",
       "    <tr>\n",
       "      <th>2</th>\n",
       "      <td>half_sized_inner_coef</td>\n",
       "      <td>98.944</td>\n",
       "    </tr>\n",
       "  </tbody>\n",
       "</table>\n",
       "</div>"
      ],
      "text/plain": [
       "                    Type  Average\n",
       "0       sum_squares_slot  164.293\n",
       "1     inner_product_slot  182.141\n",
       "2  half_sized_inner_coef   98.944"
      ]
     },
     "execution_count": 25,
     "metadata": {},
     "output_type": "execute_result"
    }
   ],
   "source": [
    "homomorphic_averages"
   ]
  },
  {
   "cell_type": "code",
   "execution_count": 29,
   "metadata": {},
   "outputs": [],
   "source": [
    "# Setup Operations Comparison\n",
    "# Compare both slot implementation\n",
    "setup_sum_squares_slot_vs_inner_prod_slot = format(compare_two_types_by_percentage(\"sum_squares_slot\", \"inner_product_slot\", setup_averages),\n",
    "                             \".2f\")\n",
    "\n",
    "# Compare Coef vs Inner produc slot\n",
    "setup_coef_vs_inner_product_slot = format(compare_two_types_by_percentage(\"half_sized_inner_coef\", \"inner_product_slot\", setup_averages),\n",
    "                               \".2f\")\n",
    "\n",
    "# Compare Coef vs Sum square slot\n",
    "setup_coef_vs_sum_square_slot = format(compare_two_types_by_percentage(\"half_sized_inner_coef\", \"sum_squares_slot\", setup_averages),\n",
    "                               \".2f\")\n",
    "\n",
    "# Encryption Operations Comparison\n",
    "# Compare both slot implementation\n",
    "encryption_sum_squares_slot_vs_inner_prod_slot = format(compare_two_types_by_percentage(\"sum_squares_slot\", \"inner_product_slot\", encryption_averages),\n",
    "                             \".2f\")\n",
    "\n",
    "# Compare Coef vs Inner produc slot\n",
    "encryption_coef_vs_inner_product_slot = format(compare_two_types_by_percentage(\"inner_product_slot\", \"half_sized_inner_coef\", encryption_averages),\n",
    "                               \".2f\")\n",
    "\n",
    "# Compare Coef vs Sum square slot\n",
    "encryption_coef_vs_sum_square_slot = format(compare_two_types_by_percentage(\"sum_squares_slot\", \"half_sized_inner_coef\", encryption_averages),\n",
    "                               \".2f\")\n",
    "\n",
    "# Homomorphic Operations Comparison\n",
    "# Compare both slot implementation\n",
    "homomorphic_sum_squares_slot_vs_inner_prod_slot = format(compare_two_types_by_percentage(\"sum_squares_slot\", \"inner_product_slot\", homomorphic_averages),\n",
    "                             \".2f\")\n",
    "\n",
    "# Compare Coef vs Inner produc slot\n",
    "homomorphic_coef_vs_inner_product_slot = format(compare_two_types_by_percentage(\"half_sized_inner_coef\", \"inner_product_slot\", homomorphic_averages),\n",
    "                               \".2f\")\n",
    "\n",
    "# Compare Coef vs Sum square slot\n",
    "homomorphic_coef_vs_sum_square_slot = format(compare_two_types_by_percentage(\"half_sized_inner_coef\", \"sum_squares_slot\", homomorphic_averages),\n",
    "                               \".2f\")\n"
   ]
  },
  {
   "cell_type": "code",
   "execution_count": 26,
   "metadata": {},
   "outputs": [
    {
     "data": {
      "text/plain": [
       "[Text(50, 0, '164.293'), Text(50, 0, '182.141'), Text(50, 0, '98.944')]"
      ]
     },
     "execution_count": 26,
     "metadata": {},
     "output_type": "execute_result"
    },
    {
     "data": {
      "image/png": "[encoded data removed]",
      "text/plain": [
       "<Figure size 432x288 with 1 Axes>"
      ]
     },
     "metadata": {
      "needs_background": "light"
     },
     "output_type": "display_data"
    },
    {
     "data": {
      "image/png": "[encoded data removed]",
      "text/plain": [
       "<Figure size 432x288 with 1 Axes>"
      ]
     },
     "metadata": {
      "needs_background": "light"
     },
     "output_type": "display_data"
    },
    {
     "data": {
      "image/png": "[encoded data removed]",
      "text/plain": [
       "<Figure size 432x288 with 1 Axes>"
      ]
     },
     "metadata": {
      "needs_background": "light"
     },
     "output_type": "display_data"
    }
   ],
   "source": [
    "### Plot a graph for each phase\n",
    "\n",
    "# Setup\n",
    "ax = setup_averages.plot.barh(x='Type', color='green', title='Setup Duration')\n",
    "ax.set_xlabel('Time (ms)')\n",
    "ax.bar_label(ax.containers[0], label_type='center')\n",
    "\n",
    "# Encryption\n",
    "ax = encryption_averages.plot.barh(x='Type', color='green', title='Encryption Duration')\n",
    "ax.set_xlabel('Time (ms)')\n",
    "ax.bar_label(ax.containers[0], label_type='center')\n",
    "\n",
    "# Homomorphic\n",
    "# Needs two graphs because the values ara in a huge range\n",
    "ax = homomorphic_averages.plot.barh(x='Type', ylabel='Time (ms)', color='green', title='Homomorphic Operation Duration')\n",
    "ax.set_xlabel('Time (ms)')\n",
    "ax.bar_label(ax.containers[0], label_type='center', padding=50)"
   ]
  },
  {
   "cell_type": "code",
   "execution_count": 30,
   "metadata": {},
   "outputs": [
    {
     "name": "stdout",
     "output_type": "stream",
     "text": [
      "Total Time:\n",
      "Sum Squares Slot vs Inner Product Slot: 3.65%\n",
      "Half Size Coef vs Inner Product Slot: 39.46%\n",
      "Half Size Coef vs Sum Squares Slot: 37.17%\n",
      "\n",
      "Setup Operations:\n",
      "Sum Squares Slot vs Inner Product Slot: 0.10%\n",
      "Half Size Coef vs Inner Product Slot: 53.87%\n",
      "Half Size Coef vs Sum Squares Slot: 53.82%\n",
      "\n",
      "Encrypt Operations:\n",
      "Sum Squares Slot vs Inner Product Slot: -0.09%\n",
      "Half Size Coef vs Inner Product Slot: -409.48%\n",
      "Half Size Coef vs Sum Squares Slot: -409.02%\n",
      "\n",
      "Homomorphic Operations:\n",
      "Sum Squares Slot vs Inner Product Slot: 9.80%\n",
      "Half Size Coef vs Inner Product Slot: 45.68%\n",
      "Half Size Coef vs Sum Squares Slot: 39.78%\n"
     ]
    }
   ],
   "source": [
    "print(\"Total Time:\")\n",
    "print(\"Sum Squares Slot vs Inner Product Slot: \" + str(sum_squares_slot_vs_inner_prod_slot) + \"%\")\n",
    "print(\"Half Size Coef vs Inner Product Slot: \" + str(coef_vs_inner_product_slot) + \"%\")\n",
    "print(\"Half Size Coef vs Sum Squares Slot: \" + str(coef_vs_sum_square_slot) + \"%\")\n",
    "\n",
    "print(\"\\nSetup Operations:\")\n",
    "print(\"Sum Squares Slot vs Inner Product Slot: \" + str(setup_sum_squares_slot_vs_inner_prod_slot) + \"%\")\n",
    "print(\"Half Size Coef vs Inner Product Slot: \" + str(setup_coef_vs_inner_product_slot) + \"%\")\n",
    "print(\"Half Size Coef vs Sum Squares Slot: \" + str(setup_coef_vs_sum_square_slot) + \"%\")\n",
    "\n",
    "print(\"\\nEncrypt Operations:\")\n",
    "print(\"Sum Squares Slot vs Inner Product Slot: \" + str(encryption_sum_squares_slot_vs_inner_prod_slot) + \"%\")\n",
    "print(\"Half Size Coef vs Inner Product Slot: \" + str(encryption_coef_vs_inner_product_slot) + \"%\")\n",
    "print(\"Half Size Coef vs Sum Squares Slot: \" + str(encryption_coef_vs_sum_square_slot) + \"%\")\n",
    "\n",
    "print(\"\\nHomomorphic Operations:\")\n",
    "print(\"Sum Squares Slot vs Inner Product Slot: \" + str(homomorphic_sum_squares_slot_vs_inner_prod_slot) + \"%\")\n",
    "print(\"Half Size Coef vs Inner Product Slot: \" + str(homomorphic_coef_vs_inner_product_slot) + \"%\")\n",
    "print(\"Half Size Coef vs Sum Squares Slot: \" + str(homomorphic_coef_vs_sum_square_slot) + \"%\")"
   ]
  },
  {
   "attachments": {},
   "cell_type": "markdown",
   "metadata": {},
   "source": [
    "### Conclusion\n",
    "\n",
    "As expected the simple implementation is the worse in terms of time perfomance. Although homomorphic operations are very fast, the fact that we have to encrypt n ciphertexts makes it impratical for every application.\n",
    "\n",
    "The rotation implementation sees an improvement but it continues to be too slow to be used in real applications. Coeffcient packing has the disadvantage that we need to create n plaintexts (one for each rotation) and the Slot packing has the disadvantage that we have to do 2*n operations, which are very time consuming.\n",
    "Both the simple implementation and the rotation implementation (without optimization) are faster when using slot packing.\n",
    "\n",
    "The optimization implemented consisted of reducing the rotation needed from n to log2(n). This gave an improvement to both the coefficient and the slot packing implementation.\n",
    "As expected, the time for the homomorphic operations decreased drastically. In the coefficient implementation we saw a improvement of 99,85% and in the slot packing implementation we saw an improvement of 99,84%. ´\n",
    "The drawback appeared only in the slot implementation, where the setup time was, almost, 5 times slower. This is due to the fact that in the normal implementation we only had to generate 1 evaluation key while for the optimization we needed log2(n) keys. Even with this drawback, the optimization gives an enormous improvement.\n",
    "\n",
    "This optimization makes it worth it to use coefficient packing since it gives an improvement of 83,53% in terms of the times it takes to do operations. This translates to the coefficient packing being, overall, 58,63% faster than the slot counter part.\n",
    "\n",
    "In terms of time perfomance the best algorithm is the one that uses coefficient packing with pre-processing before starting the operations. \n",
    "This is what was expected since this cuts the homomorphic operation from 2 * log2(n) to 1. \n",
    "The main drawback is the need to pre processed all the numbers before encryption but, as we can see by the Setup graph, it is still 79,72% faster than generating the rotation evaluation keys and 54,27% faster than generating all the plaintexts needed to do the coefficient rotations. \n",
    "The other drawback is the need to generate one more plaintext for the multiplication.\n",
    "All this drawback allow us to only do one homomorphic operation that translates into this implementation being 196x faster, in terms of homomorphic operations duration, than the optimized coefficient implementation and 1193x faster than optimized slot implementation.\n",
    "In terms of overall perfomance, it is 52,12% faster than the optimized coefficient implementation and 80,19% faster than the optimized slot implementation.\n"
   ]
  }
 ],
 "metadata": {
  "kernelspec": {
   "display_name": "Python 3",
   "language": "python",
   "name": "python3"
  },
  "language_info": {
   "codemirror_mode": {
    "name": "ipython",
    "version": 3
   },
   "file_extension": ".py",
   "mimetype": "text/x-python",
   "name": "python",
   "nbconvert_exporter": "python",
   "pygments_lexer": "ipython3",
   "version": "3.10.2"
  },
  "orig_nbformat": 4
 },
 "nbformat": 4,
 "nbformat_minor": 2
}
