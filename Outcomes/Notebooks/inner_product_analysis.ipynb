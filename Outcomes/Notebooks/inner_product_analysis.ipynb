{
 "cells": [
  {
   "attachments": {},
   "cell_type": "markdown",
   "metadata": {},
   "source": [
    "# Thesis Outcomes\n",
    "\n",
    "In this notebook I will compare the result I got from all the algorithms I implemented. \n",
    "\n",
    "I will start by comparing both packing methods with each other. Then i will be comparing the Mean, followed by the Inner Product, and finish with the Variance.\n",
    "\n",
    "For all the algorithms I am working with vector of size n = 8192 which are always filled with exactly 8192 values which can be 1, 2 or 3."
   ]
  },
  {
   "attachments": {},
   "cell_type": "markdown",
   "metadata": {},
   "source": [
    "## Setup"
   ]
  },
  {
   "cell_type": "code",
   "execution_count": 13,
   "metadata": {},
   "outputs": [],
   "source": [
    "# Imports\n",
    "import os\n",
    "import glob\n",
    "import pandas as pd\n",
    "import matplotlib.pyplot as plt"
   ]
  },
  {
   "cell_type": "code",
   "execution_count": 14,
   "metadata": {},
   "outputs": [],
   "source": [
    "# Function to extract files from folder\n",
    "def get_files(filepath):\n",
    "    all_files = []\n",
    "    for root, dirs, files in os.walk(filepath):\n",
    "            files = glob.glob(os.path.join(root, '*.csv'))\n",
    "            for f in files:\n",
    "                    all_files.append(os.path.abspath(f))\n",
    "    return all_files"
   ]
  },
  {
   "cell_type": "code",
   "execution_count": 15,
   "metadata": {},
   "outputs": [],
   "source": [
    "# Get file names\n",
    "outcomes_CSV = get_files(\"../timeCSVs\")\n",
    "\n",
    "# Import csv as a Dataframe\n",
    "inner_Product_DF = pd.read_csv(outcomes_CSV[1])\n"
   ]
  },
  {
   "cell_type": "code",
   "execution_count": 16,
   "metadata": {},
   "outputs": [],
   "source": [
    "# Auxiliary Functions\n",
    "\n",
    "def compare_two_types_by_percentage(column1, column2, df):\n",
    "    return ((df.loc[df['Type'] == column2]['Average'].values[0] - df.loc[df['Type'] == column1]['Average'].values[0] )/ df.loc[df['Type'] == column2]['Average'].values[0]) * 100\n",
    "\n",
    "def create_df_for_type(type, setup_averages, encryption_averages, homomorphic_averages):\n",
    "    df = pd.DataFrame(columns=['Time'], index=['Setup', 'Encryption', 'Homomorphic'])\n",
    "\n",
    "    df.loc['Setup'] = float(format(setup_averages[setup_averages['Type'] == type]['Average'].values[0], \".2f\"))\n",
    "    df.loc['Encryption'] = float(format(encryption_averages[encryption_averages['Type'] == type]['Average'].values[0], \".2f\"))\n",
    "    df.loc['Homomorphic'] = float(format(homomorphic_averages[homomorphic_averages['Type'] == type]['Average'].values[0], \".2f\"))\n",
    "\n",
    "    return df"
   ]
  },
  {
   "attachments": {},
   "cell_type": "markdown",
   "metadata": {},
   "source": [
    "## Inner Product\n",
    "\n",
    "For the inner Product we only have one implementation per packing, this is because we are only going to use the method that gave us the best results for each packing in the mean implementation."
   ]
  },
  {
   "cell_type": "code",
   "execution_count": 17,
   "metadata": {},
   "outputs": [
    {
     "data": {
      "text/plain": [
       "array(['optimized-slot', 'coef', 'coef-setup-reverse'], dtype=object)"
      ]
     },
     "execution_count": 17,
     "metadata": {},
     "output_type": "execute_result"
    }
   ],
   "source": [
    "inner_Product_DF['type'].unique()"
   ]
  },
  {
   "cell_type": "code",
   "execution_count": 18,
   "metadata": {},
   "outputs": [],
   "source": [
    "### Create DF for each type of implementation\n",
    "optimized_slot_DF = inner_Product_DF[inner_Product_DF['type'] == \"optimized-slot\"]\n",
    "coef_DF = inner_Product_DF[inner_Product_DF['type'] == \"coef\"]\n",
    "coef_setup_reverse_DF = inner_Product_DF[inner_Product_DF['type'] == \"coef-setup-reverse\"]\n",
    "\n",
    "inner_product_implementation_dfs = {'coef': coef_DF,'optimized_slot': optimized_slot_DF, 'coef_setup_reverse': coef_setup_reverse_DF}"
   ]
  },
  {
   "attachments": {},
   "cell_type": "markdown",
   "metadata": {},
   "source": [
    "### Total Run Time"
   ]
  },
  {
   "cell_type": "code",
   "execution_count": 19,
   "metadata": {},
   "outputs": [],
   "source": [
    "inner_product_total_time_averages = pd.DataFrame({'Type': pd.Series(dtype='str'),\n",
    "                                    'Average': pd.Series(dtype='float')})\n",
    "\n",
    "for name, df in inner_product_implementation_dfs.items():\n",
    "    inner_product_total_time_averages.loc[len(inner_product_total_time_averages)] = {'Type': name, 'Average': df[' total'].mean()}"
   ]
  },
  {
   "cell_type": "code",
   "execution_count": 20,
   "metadata": {},
   "outputs": [
    {
     "data": {
      "text/plain": [
       "[Text(0, 0, '102.841'), Text(0, 0, '389.612'), Text(0, 0, '103.1')]"
      ]
     },
     "execution_count": 20,
     "metadata": {},
     "output_type": "execute_result"
    },
    {
     "data": {
      "image/png": "[encoded data removed]",
      "text/plain": [
       "<Figure size 432x288 with 1 Axes>"
      ]
     },
     "metadata": {
      "needs_background": "light"
     },
     "output_type": "display_data"
    }
   ],
   "source": [
    "ax = inner_product_total_time_averages.plot.barh(x='Type', ylabel='Time (ms)', color='green', title='Total Run Time of Algorithms')\n",
    "ax.set_xlabel('Time (ms)')\n",
    "ax.bar_label(ax.containers[0], label_type='center')"
   ]
  },
  {
   "cell_type": "code",
   "execution_count": 24,
   "metadata": {},
   "outputs": [],
   "source": [
    "# Compare Coefficient vs Optimized Slot\n",
    "ip_coef_vs_optimized_slot = format(compare_two_types_by_percentage(\"coef_setup_reverse\", \"optimized_slot\", inner_product_total_time_averages),\n",
    "                             \".2f\")\n",
    "\n",
    "# Compare impact of reversing a vector\n",
    "ip_reverse_impact = format(compare_two_types_by_percentage(\"coef\", \"coef_setup_reverse\", inner_product_total_time_averages),\n",
    "                             \".2f\")"
   ]
  },
  {
   "attachments": {},
   "cell_type": "markdown",
   "metadata": {},
   "source": [
    "### Time per phase"
   ]
  },
  {
   "cell_type": "code",
   "execution_count": 25,
   "metadata": {},
   "outputs": [],
   "source": [
    "### Create a DataFrame for each phase with the average of each type of algorithm\n",
    "\n",
    "# Setup\n",
    "setup_averages = pd.DataFrame({'Type': pd.Series(dtype='str'),\n",
    "                                    'Average': pd.Series(dtype='float')})\n",
    "\n",
    "for name, df in inner_product_implementation_dfs.items():\n",
    "    setup_averages.loc[len(setup_averages)] = {'Type': name, 'Average': df[' setup'].mean()}\n",
    "\n",
    "# Encryption\n",
    "encryption_averages = pd.DataFrame({'Type': pd.Series(dtype='str'),\n",
    "                                    'Average': pd.Series(dtype='float')})\n",
    "\n",
    "for name, df in inner_product_implementation_dfs.items():\n",
    "    encryption_averages.loc[len(encryption_averages)] = {'Type': name, 'Average': df[' encryption'].mean()}\n",
    "\n",
    "# Homomorphic\n",
    "homomorphic_averages = pd.DataFrame({'Type': pd.Series(dtype='str'),\n",
    "                                    'Average': pd.Series(dtype='float')})\n",
    "\n",
    "for name, df in inner_product_implementation_dfs.items():\n",
    "    homomorphic_averages.loc[len(homomorphic_averages)] = {'Type': name, 'Average': df[' homomorphic'].mean()}"
   ]
  },
  {
   "cell_type": "code",
   "execution_count": 30,
   "metadata": {},
   "outputs": [],
   "source": [
    "# SETUP\n",
    "setup_coef_vs_optimized_slot = format(compare_two_types_by_percentage(\"coef_setup_reverse\", \"optimized_slot\", setup_averages),\n",
    "                             \".2f\")\n",
    "\n",
    "# Encryption\n",
    "encryption_coef_vs_optimized_slot = format(compare_two_types_by_percentage(\"optimized_slot\", \"coef_setup_reverse\", encryption_averages),\n",
    "                             \".2f\")\n",
    "\n",
    "# Homomorphic\n",
    "homomorphic_coef_vs_optimized_slot = format(compare_two_types_by_percentage(\"coef_setup_reverse\", \"optimized_slot\", homomorphic_averages),\n",
    "                             \".2f\")"
   ]
  },
  {
   "cell_type": "code",
   "execution_count": 26,
   "metadata": {},
   "outputs": [
    {
     "data": {
      "text/plain": [
       "[Text(0, 0, '16.889'), Text(0, 0, '87.872'), Text(0, 0, '16.936')]"
      ]
     },
     "execution_count": 26,
     "metadata": {},
     "output_type": "execute_result"
    },
    {
     "data": {
      "image/png": "[encoded data removed]",
      "text/plain": [
       "<Figure size 432x288 with 1 Axes>"
      ]
     },
     "metadata": {
      "needs_background": "light"
     },
     "output_type": "display_data"
    },
    {
     "data": {
      "image/png": "[encoded data removed]",
      "text/plain": [
       "<Figure size 432x288 with 1 Axes>"
      ]
     },
     "metadata": {
      "needs_background": "light"
     },
     "output_type": "display_data"
    },
    {
     "data": {
      "image/png": "[encoded data removed]",
      "text/plain": [
       "<Figure size 432x288 with 1 Axes>"
      ]
     },
     "metadata": {
      "needs_background": "light"
     },
     "output_type": "display_data"
    }
   ],
   "source": [
    "### Plot a graph for each phase\n",
    "\n",
    "# Setup\n",
    "ax = setup_averages.plot.barh(x='Type', color='green', title='Setup Duration')\n",
    "ax.set_xlabel('Time (ms)')\n",
    "ax.bar_label(ax.containers[0], label_type='center')\n",
    "\n",
    "# Encryption\n",
    "ax = encryption_averages.plot.barh(x='Type', color='green', title='Encryption Duration')\n",
    "ax.set_xlabel('Time (ms)')\n",
    "ax.bar_label(ax.containers[0], label_type='center')\n",
    "\n",
    "# Homomorphic\n",
    "# Needs two graphs because the values ara in a huge range\n",
    "ax = homomorphic_averages.plot.barh(x='Type', ylabel='Time (ms)', color='green', title='Homomorphic Operation Duration')\n",
    "ax.set_xlabel('Time (ms)')\n",
    "ax.bar_label(ax.containers[0], label_type='center')"
   ]
  },
  {
   "cell_type": "code",
   "execution_count": 32,
   "metadata": {},
   "outputs": [
    {
     "name": "stdout",
     "output_type": "stream",
     "text": [
      "Total Time:\n",
      "Coefficient vs Optimized Slot: 73.54%\n",
      "Reversing vector impact: 0.25%\n",
      "\n",
      "Setup Operations:\n",
      "Coefficient vs Optimized Slot: 80.61%\n",
      "\n",
      "Encrypt Operations:\n",
      "Optimized Slot vs Coefficient: 32.58%\n",
      "\n",
      "Homomorphic Operations:\n",
      "Coefficient vs Optimized Slot: 80.73%\n"
     ]
    }
   ],
   "source": [
    "print(\"Total Time:\")\n",
    "print(\"Coefficient vs Optimized Slot: \" + str(ip_coef_vs_optimized_slot) + \"%\")\n",
    "print(\"Reversing vector impact: \" + str(ip_reverse_impact) + \"%\")\n",
    "\n",
    "print(\"\\nSetup Operations:\")\n",
    "print(\"Coefficient vs Optimized Slot: \" + str(setup_coef_vs_optimized_slot) + \"%\")\n",
    "\n",
    "print(\"\\nEncrypt Operations:\")\n",
    "print(\"Optimized Slot vs Coefficient: \" + str(encryption_coef_vs_optimized_slot) + \"%\")\n",
    "\n",
    "print(\"\\nHomomorphic Operations:\")\n",
    "print(\"Coefficient vs Optimized Slot: \" + str(homomorphic_coef_vs_optimized_slot) + \"%\")\n"
   ]
  },
  {
   "attachments": {},
   "cell_type": "markdown",
   "metadata": {},
   "source": [
    "## Conclusion\n",
    "\n",
    "The results are as expect.\n",
    "\n",
    "Coefficient not only has faster multiplication than slot packing has it only needs one multiplication to calculate the inner product.\n",
    "\n",
    "As such we see that the coefficient packing is 73,5% faster than the slot packing version. \n",
    "\n",
    "It is way faster in the setup phase and in the homomorphic phase (this as already been explained). In the setup phase the only thing we need to do in the coefficient packing, besides generating the parameters and eval keys, is reversing one of the vectors. Meanwhile, if we are using slot packing we need to generate all the evaluation rotation keys, which takes a lot of time (when compared to reversing a vector).\n",
    "\n",
    "The only advantage for the slot packing is the encryption time, which is 32,58% faster. As seen with the experiments in the mean, this should be tested with larger vectors size, as there may be a size big enough where this advantage may overtake the loss of time in the setup and homomorphic phase"
   ]
  }
 ],
 "metadata": {
  "kernelspec": {
   "display_name": "Python 3",
   "language": "python",
   "name": "python3"
  },
  "language_info": {
   "codemirror_mode": {
    "name": "ipython",
    "version": 3
   },
   "file_extension": ".py",
   "mimetype": "text/x-python",
   "name": "python",
   "nbconvert_exporter": "python",
   "pygments_lexer": "ipython3",
   "version": "3.10.2"
  },
  "orig_nbformat": 4
 },
 "nbformat": 4,
 "nbformat_minor": 2
}
