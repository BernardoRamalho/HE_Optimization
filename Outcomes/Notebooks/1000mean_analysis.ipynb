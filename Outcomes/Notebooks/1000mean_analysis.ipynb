{
 "cells": [
  {
   "attachments": {},
   "cell_type": "markdown",
   "metadata": {},
   "source": [
    "# Thesis Outcomes - 1000 mean\n",
    "\n",
    "In this notebook I will analyse the data when i'm trying to calculate the mean for 1000 vector of 8192 elements each.\n"
   ]
  },
  {
   "attachments": {},
   "cell_type": "markdown",
   "metadata": {},
   "source": [
    "## Setup"
   ]
  },
  {
   "cell_type": "code",
   "execution_count": 2,
   "metadata": {},
   "outputs": [],
   "source": [
    "# Imports\n",
    "import os\n",
    "import glob\n",
    "import pandas as pd\n",
    "import matplotlib.pyplot as plt"
   ]
  },
  {
   "cell_type": "code",
   "execution_count": 6,
   "metadata": {},
   "outputs": [],
   "source": [
    "# Function to extract files from folder\n",
    "def get_files(filepath):\n",
    "    all_files = []\n",
    "    for root, dirs, files in os.walk(filepath):\n",
    "            files = glob.glob(os.path.join(root, '*.csv'))\n",
    "            for f in files:\n",
    "                    all_files.append(os.path.abspath(f))\n",
    "    return all_files"
   ]
  },
  {
   "cell_type": "code",
   "execution_count": 11,
   "metadata": {},
   "outputs": [],
   "source": [
    "# Get file names\n",
    "outcomes_CSV = get_files(\"../timeCSVs\")\n",
    "\n",
    "# Import csv as a Dataframe\n",
    "mean_DF = pd.read_csv(outcomes_CSV[0])\n"
   ]
  },
  {
   "cell_type": "code",
   "execution_count": 9,
   "metadata": {},
   "outputs": [],
   "source": [
    "# Auxiliary Functions\n",
    "\n",
    "def compare_two_types_by_percentage(column1, column2, df):\n",
    "    return ((df.loc[df['Type'] == column2]['Average'].values[0] - df.loc[df['Type'] == column1]['Average'].values[0] )/ df.loc[df['Type'] == column2]['Average'].values[0]) * 100\n",
    "\n",
    "def create_df_for_type(type, setup_averages, encryption_averages, homomorphic_averages):\n",
    "    df = pd.DataFrame(columns=['Time'], index=['Setup', 'Encryption', 'Homomorphic'])\n",
    "\n",
    "    df.loc['Setup'] = float(format(setup_averages[setup_averages['Type'] == type]['Average'].values[0], \".2f\"))\n",
    "    df.loc['Encryption'] = float(format(encryption_averages[encryption_averages['Type'] == type]['Average'].values[0], \".2f\"))\n",
    "    df.loc['Homomorphic'] = float(format(homomorphic_averages[homomorphic_averages['Type'] == type]['Average'].values[0], \".2f\"))\n",
    "\n",
    "    return df"
   ]
  },
  {
   "attachments": {},
   "cell_type": "markdown",
   "metadata": {},
   "source": [
    "## Mean\n",
    "\n",
    "For the mean I have 4 types of implementation.\n",
    "\n",
    "The first, and the most naive, is the one where each value is encrypted into a single ciphertext. \n",
    "\n",
    "The second method is where we encrypt only one ciphertext and calculate the total sum by doing n rotations.\n",
    "\n",
    "The third method is where we encrypt only one ciphertext and calculate the total sum by doing log2(n) rotations.\n",
    "\n",
    "The forth method is only applicable to Coefficient Packing because it uses a pre-processing technique that only works with these type of packing."
   ]
  },
  {
   "cell_type": "code",
   "execution_count": 12,
   "metadata": {},
   "outputs": [
    {
     "data": {
      "text/plain": [
       "array(['opt-rot-slot', 'opt-coef-rot', 'pre-proc-coef',\n",
       "       'no-pre-proc-coef', 'pre-comp-coef'], dtype=object)"
      ]
     },
     "execution_count": 12,
     "metadata": {},
     "output_type": "execute_result"
    }
   ],
   "source": [
    "mean_DF['type'].unique()"
   ]
  },
  {
   "cell_type": "code",
   "execution_count": 22,
   "metadata": {},
   "outputs": [],
   "source": [
    "### Create DF for each type of implementation\n",
    "opt_coef_rot_DF = mean_DF[mean_DF['type'] == \"opt-coef-rot\"]\n",
    "opt_slot_rot_DF = mean_DF[mean_DF['type'] == \"opt-rot-slot\"]\n",
    "pre_proc_coef_DF = mean_DF[mean_DF['type'] == \"pre-proc-coef\"]\n",
    "no_pre_proc_coef_DF = mean_DF[mean_DF['type'] == \"no-pre-proc-coef\"]\n",
    "pre_comp_coef_DF = mean_DF[mean_DF['type'] =='pre-comp-coef']\n",
    "\n",
    "implementation_dfs = {'opt-rot-slot': opt_slot_rot_DF, \n",
    "                      'opt-coef-rot': opt_coef_rot_DF, 'pre-proc-coef': pre_proc_coef_DF, \n",
    "                      'no-pre-proc-coef': no_pre_proc_coef_DF, 'pre-comp-coef': pre_comp_coef_DF}"
   ]
  },
  {
   "attachments": {},
   "cell_type": "markdown",
   "metadata": {},
   "source": [
    "### Total Time Comparison"
   ]
  },
  {
   "cell_type": "code",
   "execution_count": 23,
   "metadata": {},
   "outputs": [],
   "source": [
    "total_time_averages = pd.DataFrame({'Type': pd.Series(dtype='str'),\n",
    "                                    'Average': pd.Series(dtype='float')})\n",
    "\n",
    "for name, df in implementation_dfs.items():\n",
    "    total_time_averages.loc[len(total_time_averages)] = {'Type': name, 'Average': df[' total'].mean()}"
   ]
  },
  {
   "cell_type": "code",
   "execution_count": 24,
   "metadata": {},
   "outputs": [
    {
     "data": {
      "text/plain": [
       "[Text(0, 0, '9095.26'),\n",
       " Text(0, 0, '14734.6'),\n",
       " Text(0, 0, '15085.7'),\n",
       " Text(0, 0, '14614.3'),\n",
       " Text(0, 0, '15127.7')]"
      ]
     },
     "execution_count": 24,
     "metadata": {},
     "output_type": "execute_result"
    },
    {
     "data": {
      "image/png": "[encoded data removed]",
      "text/plain": [
       "<Figure size 432x288 with 1 Axes>"
      ]
     },
     "metadata": {
      "needs_background": "light"
     },
     "output_type": "display_data"
    }
   ],
   "source": [
    "ax = total_time_averages.plot.barh(x='Type', ylabel='Time (ms)', color='green', title='Total Run Time of Inneficient Algorithms')\n",
    "ax.set_xlabel('Time (ms)')\n",
    "ax.bar_label(ax.containers[0], label_type='center')"
   ]
  },
  {
   "cell_type": "code",
   "execution_count": 33,
   "metadata": {},
   "outputs": [],
   "source": [
    "# Compare Opt Rot Slot vs Simple Coef\n",
    "opt_rot_slot_vs_coef = format(compare_two_types_by_percentage('opt-rot-slot', \"opt-coef-rot\", total_time_averages),\n",
    "                             \".2f\")\n",
    "\n",
    "# Compare Opt Rot Slot vs Pre processed coef\n",
    "opt_rot_slot_vs_pre_proc_coef = format(compare_two_types_by_percentage('opt-rot-slot', \"pre-proc-coef\", total_time_averages),\n",
    "                             \".2f\")\n",
    "\n",
    "# Compare Opt Rot Slot vs no Pre process coef\n",
    "opt_rot_slot_vs_no_pre_proc_coef = format(compare_two_types_by_percentage('opt-rot-slot', \"no-pre-proc-coef\", total_time_averages),\n",
    "                             \".2f\")\n",
    "\n",
    "# Compare Opt Rot Slot vs Pre computed coef\n",
    "opt_rot_slot_vs_pre_comp_coef = format(compare_two_types_by_percentage('opt-rot-slot', \"pre-comp-coef\", total_time_averages),\n",
    "                             \".2f\")\n",
    "\n",
    "total_time_mean = (float(opt_rot_slot_vs_coef) + float(opt_rot_slot_vs_pre_proc_coef) +\n",
    "                   float(opt_rot_slot_vs_no_pre_proc_coef) + float(opt_rot_slot_vs_pre_comp_coef)) / 4"
   ]
  },
  {
   "attachments": {},
   "cell_type": "markdown",
   "metadata": {},
   "source": [
    "### Time per phase"
   ]
  },
  {
   "attachments": {},
   "cell_type": "markdown",
   "metadata": {},
   "source": [
    "I divided the algorithms in 5 phases: setup, encryption, homomorphic operations, decryption, plaintext operations.\n",
    "\n",
    "The Setup Time includes the time it takes to generate all the parameters needed, generate the rotation keys needed, and the time it takes to pre process the values.\n",
    "\n",
    "The Encryption is the time it takes to encrypt all the needed ciphertexts.\n",
    "\n",
    "The Homomorphic Operation is the time it takes to execute all the homomorphic operations needed.\n",
    "\n",
    "The Decryption is the time it takes to decrypt all the ciphertexts. Since we end up only decrypting one ciphertext, I don't use time for comparison.\n",
    "\n",
    "The Plaintext Operation is the time it takes to execute all the operations over plaintexts. This is also not gonna be used because i would only do, at most, 1 plaintext operation and since it is plaintext it is the always the same value (it is not influenced by homomorphic scheme or packing type)"
   ]
  },
  {
   "cell_type": "code",
   "execution_count": 26,
   "metadata": {},
   "outputs": [],
   "source": [
    "### Create a DataFrame for each phase with the average of each type of algorithm\n",
    "\n",
    "# Setup\n",
    "setup_averages = pd.DataFrame({'Type': pd.Series(dtype='str'),\n",
    "                                    'Average': pd.Series(dtype='float')})\n",
    "\n",
    "for name, df in implementation_dfs.items():\n",
    "    setup_averages.loc[len(setup_averages)] = {'Type': name, 'Average': df[' setup'].mean()}\n",
    "\n",
    "# Encryption\n",
    "encryption_averages = pd.DataFrame({'Type': pd.Series(dtype='str'),\n",
    "                                    'Average': pd.Series(dtype='float')})\n",
    "\n",
    "for name, df in implementation_dfs.items():\n",
    "    encryption_averages.loc[len(encryption_averages)] = {'Type': name, 'Average': df[' encryption'].mean()}\n",
    "\n",
    "# Homomorphic\n",
    "homomorphic_averages = pd.DataFrame({'Type': pd.Series(dtype='str'),\n",
    "                                    'Average': pd.Series(dtype='float')})\n",
    "\n",
    "for name, df in implementation_dfs.items():\n",
    "    homomorphic_averages.loc[len(homomorphic_averages)] = {'Type': name, 'Average': df[' homomorphic'].mean()}"
   ]
  },
  {
   "cell_type": "code",
   "execution_count": 34,
   "metadata": {},
   "outputs": [],
   "source": [
    "# Setup Operations Comparison\n",
    "# Compare Opt Rot Coef vs Opt Rot Slot\n",
    "setup_opt_rot_coef_vs_opt_rot_slot = format(compare_two_types_by_percentage(\"opt-coef-rot\", 'opt-rot-slot', setup_averages),\n",
    "                             \".2f\")\n",
    "\n",
    "# Compare pre computed coef vs Pre processed coef\n",
    "setup_pre_comp_coef_vs_pre_proc_coef = format(compare_two_types_by_percentage('pre-comp-coef', \"pre-proc-coef\", setup_averages),\n",
    "                             \".2f\")\n",
    "\n",
    "# Compare no Pre process coef vs Opt Rot Slot: \n",
    "setup_no_pre_proc_coef_vs_opt_rot_slot = format(compare_two_types_by_percentage(\"no-pre-proc-coef\", 'opt-rot-slot', setup_averages),\n",
    "                             \".2f\")\n",
    "\n",
    "# Compare Opt Rot Slot vs Pre process coef\n",
    "setup_opt_rot_slot_vs_pre_comp_coef = format(compare_two_types_by_percentage('opt-rot-slot', \"pre-proc-coef\", setup_averages),\n",
    "                             \".2f\")\n",
    "\n",
    "# Encryption Operations Comparison\n",
    "# Compare Opt Rot Slot vs Opt Rot Coef\n",
    "encryption_opt_rot_slot_vs_opt_rot_coef = format(compare_two_types_by_percentage('opt-rot-slot', \"opt-coef-rot\", encryption_averages),\n",
    "                             \".2f\")\n",
    "\n",
    "# Compare Opt Rot Slot vs Pre processed coef\n",
    "encryption_opt_rot_slot_vs_pre_proc_coef = format(compare_two_types_by_percentage('opt-rot-slot', \"pre-proc-coef\", encryption_averages),\n",
    "                             \".2f\")\n",
    "\n",
    "# Compare Opt Rot Slot vs no Pre process coef\n",
    "encryption_opt_rot_slot_vs_no_pre_proc_coef = format(compare_two_types_by_percentage('opt-rot-slot', \"no-pre-proc-coef\", encryption_averages),\n",
    "                             \".2f\")\n",
    "\n",
    "# Compare Opt Rot Slot vs Pre computed coef\n",
    "encryption_opt_rot_slot_vs_pre_comp_coef = format(compare_two_types_by_percentage('opt-rot-slot', \"pre-comp-coef\", encryption_averages),\n",
    "                             \".2f\")\n",
    "\n",
    "encryption_mean = (float(encryption_opt_rot_slot_vs_opt_rot_coef) + float(encryption_opt_rot_slot_vs_pre_proc_coef) +\n",
    "                   float(encryption_opt_rot_slot_vs_no_pre_proc_coef) + float(encryption_opt_rot_slot_vs_pre_comp_coef)) / 4\n",
    "\n",
    "# Homomorphic Operations Comparison\n",
    "# Compare Opt Coef Slot vs Opt Rot Slot\n",
    "homomorphic_opt_rot_coef_vs_opt_rot_slot = format(compare_two_types_by_percentage(\"opt-coef-rot\", 'opt-rot-slot', homomorphic_averages),\n",
    "                             \".2f\")\n",
    "\n",
    "# Compare Pre processed coef vs Opt Rot Slot\n",
    "homomorphic_pre_proc_coef_vs_opt_rot_slot = format(compare_two_types_by_percentage(\"pre-proc-coef\", 'opt-rot-slot', homomorphic_averages),\n",
    "                             \".2f\")\n",
    "\n",
    "# Compare no Pre process coef vs Opt Rot Slot\n",
    "homomorphic_no_pre_proc_coef_vs_opt_rot_slot = format(compare_two_types_by_percentage(\"no-pre-proc-coef\", 'opt-rot-slot', homomorphic_averages),\n",
    "                             \".2f\")\n",
    "\n",
    "# Compare Pre computed coef vs Opt Rot Slot\n",
    "homomorphic_pre_comp_coef_vs_opt_rot_slot = format(compare_two_types_by_percentage(\"pre-comp-coef\", 'opt-rot-slot', homomorphic_averages),\n",
    "                             \".2f\")\n",
    "\n",
    "homomorphic_mean = (float(homomorphic_opt_rot_coef_vs_opt_rot_slot) + float(homomorphic_pre_proc_coef_vs_opt_rot_slot)\n",
    "                     + float(homomorphic_no_pre_proc_coef_vs_opt_rot_slot) + float(homomorphic_pre_comp_coef_vs_opt_rot_slot)) / 4"
   ]
  },
  {
   "cell_type": "code",
   "execution_count": 30,
   "metadata": {},
   "outputs": [
    {
     "data": {
      "text/plain": [
       "[Text(50, 0, '417.15'),\n",
       " Text(50, 0, '381.64'),\n",
       " Text(50, 0, '372.786'),\n",
       " Text(50, 0, '373.524'),\n",
       " Text(50, 0, '390.274')]"
      ]
     },
     "execution_count": 30,
     "metadata": {},
     "output_type": "execute_result"
    },
    {
     "data": {
      "image/png": "[encoded data removed]",
      "text/plain": [
       "<Figure size 432x288 with 1 Axes>"
      ]
     },
     "metadata": {
      "needs_background": "light"
     },
     "output_type": "display_data"
    },
    {
     "data": {
      "image/png": "[encoded data removed]",
      "text/plain": [
       "<Figure size 432x288 with 1 Axes>"
      ]
     },
     "metadata": {
      "needs_background": "light"
     },
     "output_type": "display_data"
    },
    {
     "data": {
      "image/png": "[encoded data removed]",
      "text/plain": [
       "<Figure size 432x288 with 1 Axes>"
      ]
     },
     "metadata": {
      "needs_background": "light"
     },
     "output_type": "display_data"
    }
   ],
   "source": [
    "### Plot a graph for each phase\n",
    "\n",
    "# Setup\n",
    "ax = setup_averages.plot.barh(x='Type', color='green', title='Setup Duration')\n",
    "ax.set_xlabel('Time (ms)')\n",
    "ax.bar_label(ax.containers[0], label_type='center')\n",
    "\n",
    "# Encryption\n",
    "ax = encryption_averages.plot.barh(x='Type', color='green', title='Encryption Duration')\n",
    "ax.set_xlabel('Time (ms)')\n",
    "ax.bar_label(ax.containers[0], label_type='center')\n",
    "\n",
    "# Homomorphic\n",
    "# Needs two graphs because the values ara in a huge range\n",
    "ax = homomorphic_averages.plot.barh(x='Type', ylabel='Time (ms)', color='green', title='Homomorphic Operation Duration')\n",
    "ax.set_xlabel('Time (ms)')\n",
    "ax.bar_label(ax.containers[0], label_type='center', padding=50)"
   ]
  },
  {
   "cell_type": "code",
   "execution_count": 38,
   "metadata": {},
   "outputs": [
    {
     "name": "stdout",
     "output_type": "stream",
     "text": [
      "Total Time:\n",
      "Opt Rot Slot vs Opt Rot Coef: 38.27%\n",
      "Opt Rot Slot vs Pre processed coef: 39.71%\n",
      "Opt Rot Slot vs no Pre process coef: 37.76%\n",
      "Opt Rot Slot vs Pre computed coef: 39.88%\n",
      "Average Opt Rot: 38.905%\n",
      "\n",
      "Setup:\n",
      "Opt Rot Coef vs Opt Rot Slot: 52.71%\n",
      "pre computed coef vs Pre processed coef: 5.10%\n",
      "no Pre process coef vs Opt Rot Slot: 78.45%\n",
      "Opt Rot Slot vs Pre process coef: 37.94%\n",
      "\n",
      "Encryption Operations:\n",
      "Opt Rot Slot vs Opt Rot Coef: 40.91%\n",
      "Opt Rot Slot vs Pre processed coef: 41.12%\n",
      "Opt Rot Slot vs no Pre process coef: 40.74%\n",
      "Opt Rot Slot vs Pre computed coef:41.31%\n",
      "Average Opt Rot: 41.02%\n",
      "\n",
      "Homomorphic Operations:\n",
      "Opt Coef Slot vs Opt Rot Slot: 8.51%\n",
      "Pre processed coef vs Opt Rot Slot: 10.64%\n",
      "no Pre process coef vs Opt Rot Slot: 10.46%\n",
      "Pre computed coef vs Opt Rot Slot:6.44%\n",
      "Average Coef: 9.0125%\n"
     ]
    }
   ],
   "source": [
    "print(\"Total Time:\")\n",
    "print(\"Opt Rot Slot vs Opt Rot Coef: \" + opt_rot_slot_vs_coef + \"%\")\n",
    "print(\"Opt Rot Slot vs Pre processed coef: \" + opt_rot_slot_vs_pre_proc_coef + \"%\")\n",
    "print(\"Opt Rot Slot vs no Pre process coef: \" + opt_rot_slot_vs_no_pre_proc_coef + \"%\")\n",
    "print(\"Opt Rot Slot vs Pre computed coef: \" + opt_rot_slot_vs_pre_comp_coef + \"%\")\n",
    "print(\"Average Opt Rot: \" + str(total_time_mean) + \"%\")\n",
    "\n",
    "print(\"\\nSetup:\")\n",
    "print(\"Opt Rot Coef vs Opt Rot Slot: \" + setup_opt_rot_coef_vs_opt_rot_slot + \"%\")\n",
    "print(\"pre computed coef vs Pre processed coef: \" + setup_pre_comp_coef_vs_pre_proc_coef + \"%\")\n",
    "print(\"no Pre process coef vs Opt Rot Slot: \" + setup_no_pre_proc_coef_vs_opt_rot_slot + \"%\")\n",
    "print(\"Opt Rot Slot vs Pre process coef: \" + setup_opt_rot_slot_vs_pre_comp_coef + \"%\")\n",
    "\n",
    "print(\"\\nEncryption Operations:\")\n",
    "print(\"Opt Rot Slot vs Opt Rot Coef: \" + encryption_opt_rot_slot_vs_opt_rot_coef + \"%\")\n",
    "print(\"Opt Rot Slot vs Pre processed coef: \" + encryption_opt_rot_slot_vs_pre_proc_coef + \"%\")\n",
    "print(\"Opt Rot Slot vs no Pre process coef: \" + encryption_opt_rot_slot_vs_no_pre_proc_coef + \"%\")\n",
    "print(\"Opt Rot Slot vs Pre computed coef:\" + encryption_opt_rot_slot_vs_pre_comp_coef + \"%\")\n",
    "print(\"Average Opt Rot: \" + str(encryption_mean) + \"%\")\n",
    "\n",
    "print(\"\\nHomomorphic Operations:\")\n",
    "print(\"Opt Coef Slot vs Opt Rot Slot: \" + homomorphic_opt_rot_coef_vs_opt_rot_slot + \"%\")\n",
    "print(\"Pre processed coef vs Opt Rot Slot: \" + homomorphic_pre_proc_coef_vs_opt_rot_slot + \"%\")\n",
    "print(\"no Pre process coef vs Opt Rot Slot: \" + homomorphic_no_pre_proc_coef_vs_opt_rot_slot + \"%\")\n",
    "print(\"Pre computed coef vs Opt Rot Slot:\" + homomorphic_pre_comp_coef_vs_opt_rot_slot + \"%\")\n",
    "print(\"Average Coef: \" + str(homomorphic_mean) + \"%\")\n",
    "\n"
   ]
  },
  {
   "attachments": {},
   "cell_type": "markdown",
   "metadata": {},
   "source": [
    "### Conclusion\n",
    "\n",
    "With this experiment we can see the main drawback of coefficient packing, which is the time it takes to encrypt.\n",
    "\n",
    "On average, slot packing is 41% faster in the encryption phase, when compared to coefficient packing implementation.\n",
    "\n",
    "Although coefficient packing has faster operation, it is only 9% faster then the slot packing implementation. This makes sense as coefficient packing multiplications are way faster but the additions are pretty much the same. \n",
    "\n",
    "Since we use 1000 vectors, the homomorphic operations start by adding all those vector together, which takes most of the time.\n",
    "\n",
    "In terms of setup, we can still see that the best implementation are the ones using coefficient algorithm. The fastest is the no pre processing, which makes sense since it only needs to generate the context parameters.\n",
    "\n",
    "The second fastest is the optimized rotation using coefficient packing, it only has to generate the rotation plaintext (in addition to the parameters). This, as concluded in the original mean experiment, is 52% faster than the slot packing alternative.\n",
    "\n",
    "In the setup phase we can also see that computing all the alphas only gives us a 5% speed up over computing them as we pre process the values.\n",
    "\n",
    "We can also see the effect of having multiple vectos to pre process in the setup phase. While when we only had 1 vector of 8192 values, the pre processing was 79% faster than the optimized slot implementation. If we have 1000 vector that changes to the optimized slot implementation being, approximatly, 40% faster than both the pre computed and the pre processing variation.\n",
    "\n",
    "All in all, the optimized slot rotation implementation was 38,9% faster than the coefficient implementations. This is mostly due to the advantage it has in the encryption phase.   "
   ]
  }
 ],
 "metadata": {
  "kernelspec": {
   "display_name": "Python 3",
   "language": "python",
   "name": "python3"
  },
  "language_info": {
   "codemirror_mode": {
    "name": "ipython",
    "version": 3
   },
   "file_extension": ".py",
   "mimetype": "text/x-python",
   "name": "python",
   "nbconvert_exporter": "python",
   "pygments_lexer": "ipython3",
   "version": "3.10.2"
  },
  "orig_nbformat": 4
 },
 "nbformat": 4,
 "nbformat_minor": 2
}
