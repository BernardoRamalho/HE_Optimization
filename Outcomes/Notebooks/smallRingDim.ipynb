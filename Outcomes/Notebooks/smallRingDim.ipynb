{
 "cells": [
  {
   "attachments": {},
   "cell_type": "markdown",
   "metadata": {},
   "source": [
    "## Setup"
   ]
  },
  {
   "cell_type": "code",
   "execution_count": 22,
   "metadata": {},
   "outputs": [],
   "source": [
    "# Imports\n",
    "import os\n",
    "import glob\n",
    "import pandas as pd\n",
    "import matplotlib.pyplot as plt"
   ]
  },
  {
   "cell_type": "code",
   "execution_count": 23,
   "metadata": {},
   "outputs": [
    {
     "data": {
      "text/html": [
       "<div>\n",
       "<style scoped>\n",
       "    .dataframe tbody tr th:only-of-type {\n",
       "        vertical-align: middle;\n",
       "    }\n",
       "\n",
       "    .dataframe tbody tr th {\n",
       "        vertical-align: top;\n",
       "    }\n",
       "\n",
       "    .dataframe thead th {\n",
       "        text-align: right;\n",
       "    }\n",
       "</style>\n",
       "<table border=\"1\" class=\"dataframe\">\n",
       "  <thead>\n",
       "    <tr style=\"text-align: right;\">\n",
       "      <th></th>\n",
       "      <th>type</th>\n",
       "      <th>ringDim</th>\n",
       "      <th>total</th>\n",
       "    </tr>\n",
       "  </thead>\n",
       "  <tbody>\n",
       "    <tr>\n",
       "      <th>0</th>\n",
       "      <td>n16-coef-sum</td>\n",
       "      <td>2</td>\n",
       "      <td>7</td>\n",
       "    </tr>\n",
       "    <tr>\n",
       "      <th>1</th>\n",
       "      <td>n16-coef-sum</td>\n",
       "      <td>2</td>\n",
       "      <td>6</td>\n",
       "    </tr>\n",
       "    <tr>\n",
       "      <th>2</th>\n",
       "      <td>n16-coef-sum</td>\n",
       "      <td>2</td>\n",
       "      <td>14</td>\n",
       "    </tr>\n",
       "    <tr>\n",
       "      <th>3</th>\n",
       "      <td>n16-coef-sum</td>\n",
       "      <td>2</td>\n",
       "      <td>7</td>\n",
       "    </tr>\n",
       "    <tr>\n",
       "      <th>4</th>\n",
       "      <td>n16-coef-sum</td>\n",
       "      <td>2</td>\n",
       "      <td>7</td>\n",
       "    </tr>\n",
       "  </tbody>\n",
       "</table>\n",
       "</div>"
      ],
      "text/plain": [
       "           type   ringDim   total\n",
       "0  n16-coef-sum         2       7\n",
       "1  n16-coef-sum         2       6\n",
       "2  n16-coef-sum         2      14\n",
       "3  n16-coef-sum         2       7\n",
       "4  n16-coef-sum         2       7"
      ]
     },
     "execution_count": 23,
     "metadata": {},
     "output_type": "execute_result"
    }
   ],
   "source": [
    "small_ring_df = pd.read_csv(\"../timeCSVs/smallRingDim.csv\")\n",
    "\n",
    "small_ring_df.drop([' setup', ' encryption', ' homomorphic', ' decryption', ' plaintext', ' value'], axis=1,inplace=True)\n",
    "\n",
    "small_ring_df.head()"
   ]
  },
  {
   "cell_type": "code",
   "execution_count": 24,
   "metadata": {},
   "outputs": [],
   "source": [
    "n16_df = small_ring_df[small_ring_df['type'].str.contains('n16')]\n",
    "n32_df = small_ring_df[small_ring_df['type'].str.contains('n32')]\n",
    "n64_df = small_ring_df[small_ring_df['type'].str.contains('n64')]\n",
    "n128_df = small_ring_df[small_ring_df['type'].str.contains('n128')]\n",
    "n256_df = small_ring_df[small_ring_df['type'].str.contains('n256')]\n",
    "n512_df = small_ring_df[small_ring_df['type'].str.contains('n512')]\n",
    "n1024_df = small_ring_df[small_ring_df['type'].str.contains('n1024')]\n",
    "n2048_df = small_ring_df[small_ring_df['type'].str.contains('n2048')]\n",
    "n4096_df = small_ring_df[small_ring_df['type'].str.contains('n4096')]"
   ]
  },
  {
   "cell_type": "code",
   "execution_count": 25,
   "metadata": {},
   "outputs": [],
   "source": [
    "n16_mean_df = n16_df.groupby(['type', ' ringDim'], as_index=False)[' total'].mean()\n",
    "n16_mean_df.loc[n16_mean_df['type'] == 'n16-coef-inner', 'type'] = 'coef_inner_product'\n",
    "n16_mean_df.loc[n16_mean_df['type'] == 'n16-coef-sum', 'type'] = 'coef_sum'\n",
    "n16_mean_df.loc[n16_mean_df['type'] == 'n16-slot-inner', 'type'] = 'slot_inner_product'\n",
    "n16_mean_df.loc[n16_mean_df['type'] == 'n16-slot-sum', 'type'] = 'slot_sum'"
   ]
  },
  {
   "cell_type": "code",
   "execution_count": 26,
   "metadata": {},
   "outputs": [],
   "source": [
    "n32_mean_df = n32_df.groupby(['type', ' ringDim'], as_index=False)[' total'].mean()\n",
    "n32_mean_df.loc[n32_mean_df['type'] == 'n32-coef-inner', 'type'] = 'coef_inner_product'\n",
    "n32_mean_df.loc[n32_mean_df['type'] == 'n32-coef-sum', 'type'] = 'coef_sum'\n",
    "n32_mean_df.loc[n32_mean_df['type'] == 'n32-slot-inner', 'type'] = 'slot_inner_product'\n",
    "n32_mean_df.loc[n32_mean_df['type'] == 'n32-slot-sum', 'type'] = 'slot_sum'"
   ]
  },
  {
   "cell_type": "code",
   "execution_count": 38,
   "metadata": {},
   "outputs": [],
   "source": [
    "n64_mean_df = n64_df.groupby(['type', ' ringDim'], as_index=False)[' total'].mean()\n",
    "n64_mean_df.loc[n64_mean_df['type'] == 'n64-coef-inner', 'type'] = 'coef_inner_product'\n",
    "n64_mean_df.loc[n64_mean_df['type'] == 'n64-coef-sum', 'type'] = 'coef_sum'\n",
    "n64_mean_df.loc[n64_mean_df['type'] == 'n64-slot-inner', 'type'] = 'slot_inner_product'\n",
    "n64_mean_df.loc[n64_mean_df['type'] == 'n64-slot-sum', 'type'] = 'slot_sum'"
   ]
  },
  {
   "cell_type": "code",
   "execution_count": 28,
   "metadata": {},
   "outputs": [],
   "source": [
    "n128_mean_df = n128_df.groupby(['type', ' ringDim'], as_index=False)[' total'].mean()\n",
    "n128_mean_df.loc[n128_mean_df['type'] == 'n128-coef-inner', 'type'] = 'coef_inner_product'\n",
    "n128_mean_df.loc[n128_mean_df['type'] == 'n128-coef-sum', 'type'] = 'coef_sum'\n",
    "n128_mean_df.loc[n128_mean_df['type'] == 'n128-slot-inner', 'type'] = 'slot_inner_product'\n",
    "n128_mean_df.loc[n128_mean_df['type'] == 'n128-slot-sum', 'type'] = 'slot_sum'"
   ]
  },
  {
   "cell_type": "code",
   "execution_count": 29,
   "metadata": {},
   "outputs": [],
   "source": [
    "n256_mean_df = n256_df.groupby(['type', ' ringDim'], as_index=False)[' total'].mean()\n",
    "n256_mean_df.loc[n256_mean_df['type'] == 'n256-coef-inner', 'type'] = 'coef_inner_product'\n",
    "n256_mean_df.loc[n256_mean_df['type'] == 'n256-coef-sum', 'type'] = 'coef_sum'\n",
    "n256_mean_df.loc[n256_mean_df['type'] == 'n256-slot-inner', 'type'] = 'slot_inner_product'\n",
    "n256_mean_df.loc[n256_mean_df['type'] == 'n256-slot-sum', 'type'] = 'slot_sum'"
   ]
  },
  {
   "cell_type": "code",
   "execution_count": 30,
   "metadata": {},
   "outputs": [],
   "source": [
    "n512_mean_df = n512_df.groupby(['type', ' ringDim'], as_index=False)[' total'].mean()\n",
    "n512_mean_df.loc[n512_mean_df['type'] == 'n512-coef-inner', 'type'] = 'coef_inner_product'\n",
    "n512_mean_df.loc[n512_mean_df['type'] == 'n512-coef-sum', 'type'] = 'coef_sum'\n",
    "n512_mean_df.loc[n512_mean_df['type'] == 'n512-slot-inner', 'type'] = 'slot_inner_product'\n",
    "n512_mean_df.loc[n512_mean_df['type'] == 'n512-slot-sum', 'type'] = 'slot_sum'"
   ]
  },
  {
   "cell_type": "code",
   "execution_count": 31,
   "metadata": {},
   "outputs": [],
   "source": [
    "n1024_mean_df = n1024_df.groupby(['type', ' ringDim'], as_index=False)[' total'].mean()\n",
    "n1024_mean_df.loc[n1024_mean_df['type'] == 'n1024-coef-inner', 'type'] = 'coef_inner_product'\n",
    "n1024_mean_df.loc[n1024_mean_df['type'] == 'n1024-coef-sum', 'type'] = 'coef_sum'\n",
    "n1024_mean_df.loc[n1024_mean_df['type'] == 'n1024-slot-inner', 'type'] = 'slot_inner_product'\n",
    "n1024_mean_df.loc[n1024_mean_df['type'] == 'n1024-slot-sum', 'type'] = 'slot_sum'"
   ]
  },
  {
   "cell_type": "code",
   "execution_count": 32,
   "metadata": {},
   "outputs": [],
   "source": [
    "n2048_mean_df = n2048_df.groupby(['type', ' ringDim'], as_index=False)[' total'].mean()\n",
    "n2048_mean_df.loc[n2048_mean_df['type'] == 'n2048-coef-inner', 'type'] = 'coef_inner_product'\n",
    "n2048_mean_df.loc[n2048_mean_df['type'] == 'n2048-coef-sum', 'type'] = 'coef_sum'\n",
    "n2048_mean_df.loc[n2048_mean_df['type'] == 'n2048-slot-inner', 'type'] = 'slot_inner_product'\n",
    "n2048_mean_df.loc[n2048_mean_df['type'] == 'n2048-slot-sum', 'type'] = 'slot_sum'"
   ]
  },
  {
   "cell_type": "code",
   "execution_count": 33,
   "metadata": {},
   "outputs": [],
   "source": [
    "n4096_mean_df = n4096_df.groupby(['type', ' ringDim'], as_index=False)[' total'].mean()\n",
    "n4096_mean_df.loc[n4096_mean_df['type'] == 'n4096-coef-inner', 'type'] = 'coef_inner_product'\n",
    "n4096_mean_df.loc[n4096_mean_df['type'] == 'n4096-coef-sum', 'type'] = 'coef_sum'\n",
    "n4096_mean_df.loc[n4096_mean_df['type'] == 'n4096-slot-inner', 'type'] = 'slot_inner_product'\n",
    "n4096_mean_df.loc[n4096_mean_df['type'] == 'n4096-slot-sum', 'type'] = 'slot_sum'"
   ]
  },
  {
   "cell_type": "code",
   "execution_count": 34,
   "metadata": {},
   "outputs": [
    {
     "data": {
      "image/png": "[encoded data removed]",
      "text/plain": [
       "<Figure size 432x288 with 1 Axes>"
      ]
     },
     "metadata": {
      "needs_background": "light"
     },
     "output_type": "display_data"
    }
   ],
   "source": [
    "fig, ax = plt.subplots()\n",
    "\n",
    "ax.plot(n16_mean_df[n16_mean_df['type'] == 'coef_inner_product'][' ringDim'], n16_mean_df[n16_mean_df['type'] == 'coef_inner_product'][' total'], label='coef_inner_product')\n",
    "ax.plot(n16_mean_df[n16_mean_df['type'] == 'coef_sum'][' ringDim'], n16_mean_df[n16_mean_df['type'] == 'coef_sum'][' total'], label='coef_sum')\n",
    "ax.plot(n16_mean_df[n16_mean_df['type'] == 'slot_inner_product'][' ringDim'], n16_mean_df[n16_mean_df['type'] == 'slot_inner_product'][' total'], label='slot_inner_product')\n",
    "ax.plot(n16_mean_df[n16_mean_df['type'] == 'slot_sum'][' ringDim'], n16_mean_df[n16_mean_df['type'] == 'slot_sum'][' total'], label='slot_sum')\n",
    "\n",
    "handles, labels = ax.get_legend_handles_labels()\n",
    "lgd = ax.legend(handles, labels, loc='upper center', bbox_to_anchor=(1.25, 1))\n",
    "ax.set_title(\"Perfomance based on Ring Dimension, 8192 elements\")\n",
    "ax.grid('on')\n",
    "\n",
    "plt.xticks([2, 4, 8, 16])\n",
    "plt.show()"
   ]
  },
  {
   "cell_type": "code",
   "execution_count": 45,
   "metadata": {},
   "outputs": [
    {
     "data": {
      "text/html": [
       "<div>\n",
       "<style scoped>\n",
       "    .dataframe tbody tr th:only-of-type {\n",
       "        vertical-align: middle;\n",
       "    }\n",
       "\n",
       "    .dataframe tbody tr th {\n",
       "        vertical-align: top;\n",
       "    }\n",
       "\n",
       "    .dataframe thead th {\n",
       "        text-align: right;\n",
       "    }\n",
       "</style>\n",
       "<table border=\"1\" class=\"dataframe\">\n",
       "  <thead>\n",
       "    <tr style=\"text-align: right;\">\n",
       "      <th></th>\n",
       "      <th>type</th>\n",
       "      <th>ringDim</th>\n",
       "      <th>total</th>\n",
       "    </tr>\n",
       "  </thead>\n",
       "  <tbody>\n",
       "    <tr>\n",
       "      <th>0</th>\n",
       "      <td>coef_inner_product</td>\n",
       "      <td>512</td>\n",
       "      <td>22.30</td>\n",
       "    </tr>\n",
       "    <tr>\n",
       "      <th>1</th>\n",
       "      <td>coef_inner_product</td>\n",
       "      <td>1024</td>\n",
       "      <td>22.62</td>\n",
       "    </tr>\n",
       "    <tr>\n",
       "      <th>2</th>\n",
       "      <td>coef_inner_product</td>\n",
       "      <td>2048</td>\n",
       "      <td>25.35</td>\n",
       "    </tr>\n",
       "    <tr>\n",
       "      <th>3</th>\n",
       "      <td>coef_inner_product</td>\n",
       "      <td>4096</td>\n",
       "      <td>32.81</td>\n",
       "    </tr>\n",
       "    <tr>\n",
       "      <th>4</th>\n",
       "      <td>coef_sum</td>\n",
       "      <td>512</td>\n",
       "      <td>11.66</td>\n",
       "    </tr>\n",
       "    <tr>\n",
       "      <th>5</th>\n",
       "      <td>coef_sum</td>\n",
       "      <td>1024</td>\n",
       "      <td>13.44</td>\n",
       "    </tr>\n",
       "    <tr>\n",
       "      <th>6</th>\n",
       "      <td>coef_sum</td>\n",
       "      <td>2048</td>\n",
       "      <td>17.07</td>\n",
       "    </tr>\n",
       "    <tr>\n",
       "      <th>7</th>\n",
       "      <td>coef_sum</td>\n",
       "      <td>4096</td>\n",
       "      <td>25.83</td>\n",
       "    </tr>\n",
       "    <tr>\n",
       "      <th>8</th>\n",
       "      <td>slot_inner_product</td>\n",
       "      <td>512</td>\n",
       "      <td>21.17</td>\n",
       "    </tr>\n",
       "    <tr>\n",
       "      <th>9</th>\n",
       "      <td>slot_inner_product</td>\n",
       "      <td>1024</td>\n",
       "      <td>29.40</td>\n",
       "    </tr>\n",
       "    <tr>\n",
       "      <th>10</th>\n",
       "      <td>slot_inner_product</td>\n",
       "      <td>2048</td>\n",
       "      <td>50.71</td>\n",
       "    </tr>\n",
       "    <tr>\n",
       "      <th>11</th>\n",
       "      <td>slot_inner_product</td>\n",
       "      <td>4096</td>\n",
       "      <td>95.64</td>\n",
       "    </tr>\n",
       "    <tr>\n",
       "      <th>12</th>\n",
       "      <td>slot_sum</td>\n",
       "      <td>512</td>\n",
       "      <td>14.74</td>\n",
       "    </tr>\n",
       "    <tr>\n",
       "      <th>13</th>\n",
       "      <td>slot_sum</td>\n",
       "      <td>1024</td>\n",
       "      <td>23.91</td>\n",
       "    </tr>\n",
       "    <tr>\n",
       "      <th>14</th>\n",
       "      <td>slot_sum</td>\n",
       "      <td>2048</td>\n",
       "      <td>43.94</td>\n",
       "    </tr>\n",
       "    <tr>\n",
       "      <th>15</th>\n",
       "      <td>slot_sum</td>\n",
       "      <td>4096</td>\n",
       "      <td>86.67</td>\n",
       "    </tr>\n",
       "  </tbody>\n",
       "</table>\n",
       "</div>"
      ],
      "text/plain": [
       "                  type   ringDim   total\n",
       "0   coef_inner_product       512   22.30\n",
       "1   coef_inner_product      1024   22.62\n",
       "2   coef_inner_product      2048   25.35\n",
       "3   coef_inner_product      4096   32.81\n",
       "4             coef_sum       512   11.66\n",
       "5             coef_sum      1024   13.44\n",
       "6             coef_sum      2048   17.07\n",
       "7             coef_sum      4096   25.83\n",
       "8   slot_inner_product       512   21.17\n",
       "9   slot_inner_product      1024   29.40\n",
       "10  slot_inner_product      2048   50.71\n",
       "11  slot_inner_product      4096   95.64\n",
       "12            slot_sum       512   14.74\n",
       "13            slot_sum      1024   23.91\n",
       "14            slot_sum      2048   43.94\n",
       "15            slot_sum      4096   86.67"
      ]
     },
     "execution_count": 45,
     "metadata": {},
     "output_type": "execute_result"
    }
   ],
   "source": [
    "n4096_mean_df"
   ]
  }
 ],
 "metadata": {
  "kernelspec": {
   "display_name": "Python 3",
   "language": "python",
   "name": "python3"
  },
  "language_info": {
   "codemirror_mode": {
    "name": "ipython",
    "version": 3
   },
   "file_extension": ".py",
   "mimetype": "text/x-python",
   "name": "python",
   "nbconvert_exporter": "python",
   "pygments_lexer": "ipython3",
   "version": "3.10.2"
  },
  "orig_nbformat": 4
 },
 "nbformat": 4,
 "nbformat_minor": 2
}
