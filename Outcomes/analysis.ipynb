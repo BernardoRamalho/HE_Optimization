{
 "cells": [
  {
   "attachments": {},
   "cell_type": "markdown",
   "metadata": {},
   "source": [
    "# Thesis Outcomes\n",
    "\n",
    "In this notebook I will compare the result I got from all the algorithms I implemented. \n",
    "\n",
    "I will start by comparing both packing methods with each other. Then i will be comparing the Mean, followed by the Inner Product, and finish with the Variance.\n",
    "\n",
    "For all the algorithms I am working with vector of size n = 8192 which are always filled with exactly 8192 values which can be 1, 2 or 3."
   ]
  },
  {
   "attachments": {},
   "cell_type": "markdown",
   "metadata": {},
   "source": [
    "## Setup"
   ]
  },
  {
   "cell_type": "code",
   "execution_count": 9,
   "metadata": {},
   "outputs": [],
   "source": [
    "# Imports\n",
    "import os\n",
    "import glob\n",
    "import pandas as pd"
   ]
  },
  {
   "cell_type": "code",
   "execution_count": 12,
   "metadata": {},
   "outputs": [],
   "source": [
    "# Function to extract files from folder\n",
    "def get_files(filepath):\n",
    "    all_files = []\n",
    "    for root, dirs, files in os.walk(filepath):\n",
    "            files = glob.glob(os.path.join(root, '*.csv'))\n",
    "            for f in files:\n",
    "                    all_files.append(os.path.abspath(f))\n",
    "    return all_files"
   ]
  },
  {
   "cell_type": "code",
   "execution_count": 33,
   "metadata": {},
   "outputs": [
    {
     "name": "stdout",
     "output_type": "stream",
     "text": [
      "c:\\Users\\berna\\Desktop\\Personal\\FEUP\\Thesis\\Project\\HE_Optimization\\Outcomes\\timeCSVs\\innerProduct.csv\n",
      "c:\\Users\\berna\\Desktop\\Personal\\FEUP\\Thesis\\Project\\HE_Optimization\\Outcomes\\timeCSVs\\mean.csv\n",
      "c:\\Users\\berna\\Desktop\\Personal\\FEUP\\Thesis\\Project\\HE_Optimization\\Outcomes\\timeCSVs\\variance.csv\n"
     ]
    }
   ],
   "source": [
    "# Get file names\n",
    "outcomes_CSV = get_files(\"./timeCSVs\")\n",
    "\n",
    "# Import csv as a Dataframe\n",
    "print(outcomes_CSV[0])\n",
    "inner_Product_DF = pd.read_csv(outcomes_CSV[0])\n",
    "print(outcomes_CSV[1])\n",
    "mean_DF = pd.read_csv(outcomes_CSV[1])\n",
    "print(outcomes_CSV[2])\n",
    "variance_DF = pd.read_csv(outcomes_CSV[2])"
   ]
  },
  {
   "attachments": {},
   "cell_type": "markdown",
   "metadata": {},
   "source": [
    "## Coefficient packing vs Slot packing"
   ]
  },
  {
   "cell_type": "code",
   "execution_count": 35,
   "metadata": {},
   "outputs": [
    {
     "data": {
      "text/html": [
       "<div>\n",
       "<style scoped>\n",
       "    .dataframe tbody tr th:only-of-type {\n",
       "        vertical-align: middle;\n",
       "    }\n",
       "\n",
       "    .dataframe tbody tr th {\n",
       "        vertical-align: top;\n",
       "    }\n",
       "\n",
       "    .dataframe thead th {\n",
       "        text-align: right;\n",
       "    }\n",
       "</style>\n",
       "<table border=\"1\" class=\"dataframe\">\n",
       "  <thead>\n",
       "    <tr style=\"text-align: right;\">\n",
       "      <th></th>\n",
       "      <th>type</th>\n",
       "      <th>setup</th>\n",
       "      <th>encryption</th>\n",
       "      <th>homomorphic</th>\n",
       "      <th>decryption</th>\n",
       "      <th>plaintext</th>\n",
       "      <th>total</th>\n",
       "      <th>value</th>\n",
       "    </tr>\n",
       "  </thead>\n",
       "  <tbody>\n",
       "    <tr>\n",
       "      <th>count</th>\n",
       "      <td>2015</td>\n",
       "      <td>2015</td>\n",
       "      <td>2015</td>\n",
       "      <td>2015</td>\n",
       "      <td>2015</td>\n",
       "      <td>2015</td>\n",
       "      <td>2015</td>\n",
       "      <td>1015.0</td>\n",
       "    </tr>\n",
       "    <tr>\n",
       "      <th>unique</th>\n",
       "      <td>4</td>\n",
       "      <td>122</td>\n",
       "      <td>55</td>\n",
       "      <td>93</td>\n",
       "      <td>11</td>\n",
       "      <td>50</td>\n",
       "      <td>104</td>\n",
       "      <td>2.0</td>\n",
       "    </tr>\n",
       "    <tr>\n",
       "      <th>top</th>\n",
       "      <td>optimized-slot</td>\n",
       "      <td>224</td>\n",
       "      <td>-19</td>\n",
       "      <td>72</td>\n",
       "      <td>0</td>\n",
       "      <td>0</td>\n",
       "      <td>13651</td>\n",
       "      <td>2.0</td>\n",
       "    </tr>\n",
       "    <tr>\n",
       "      <th>freq</th>\n",
       "      <td>1000</td>\n",
       "      <td>146</td>\n",
       "      <td>378</td>\n",
       "      <td>235</td>\n",
       "      <td>1966</td>\n",
       "      <td>1015</td>\n",
       "      <td>1000</td>\n",
       "      <td>1005.0</td>\n",
       "    </tr>\n",
       "  </tbody>\n",
       "</table>\n",
       "</div>"
      ],
      "text/plain": [
       "                  type   setup   encryption   homomorphic   decryption  \\\n",
       "count             2015    2015         2015          2015         2015   \n",
       "unique               4     122           55            93           11   \n",
       "top     optimized-slot     224          -19            72            0   \n",
       "freq              1000     146          378           235         1966   \n",
       "\n",
       "         plaintext   total   value  \n",
       "count         2015    2015  1015.0  \n",
       "unique          50     104     2.0  \n",
       "top              0   13651     2.0  \n",
       "freq          1015    1000  1005.0  "
      ]
     },
     "execution_count": 35,
     "metadata": {},
     "output_type": "execute_result"
    }
   ],
   "source": [
    "# Join all the times from each packing into a DataFrame\n",
    "\n",
    "### Get all the coef times\n",
    "coef_DF = pd.concat([inner_Product_DF[inner_Product_DF['type'].str.contains('coef')], \n",
    "                        mean_DF[mean_DF['type'].str.contains('coef')], \n",
    "                        variance_DF[variance_DF['type'].str.contains('coef')]]\n",
    "                        , ignore_index=True)\n",
    "\n",
    "### Get all the slot times\n",
    "slot_DF = pd.concat([inner_Product_DF[inner_Product_DF['type'].str.contains('slot')], \n",
    "                        mean_DF[mean_DF['type'].str.contains('slot')], \n",
    "                        variance_DF[variance_DF['type'].str.contains('slot')]]\n",
    "                        , ignore_index=True)"
   ]
  },
  {
   "attachments": {},
   "cell_type": "markdown",
   "metadata": {},
   "source": [
    "## Mean\n",
    "\n",
    "For the mean I have 4 types of implementation.\n",
    "\n",
    "The first, and the most naive, is the one where each value is encrypted into a single ciphertext. \n",
    "\n",
    "The second method is where we encrypt only one ciphertext and calculate the total sum by doing n rotations.\n",
    "\n",
    "The third method is where we encrypt only one ciphertext and calculate the total sum by doing log2(n) rotations.\n",
    "\n",
    "The forth method is only applicable to Coefficient Packing because it uses a pre-processing technique that only works with these type of packing."
   ]
  },
  {
   "cell_type": "code",
   "execution_count": 16,
   "metadata": {},
   "outputs": [
    {
     "data": {
      "text/html": [
       "<div>\n",
       "<style scoped>\n",
       "    .dataframe tbody tr th:only-of-type {\n",
       "        vertical-align: middle;\n",
       "    }\n",
       "\n",
       "    .dataframe tbody tr th {\n",
       "        vertical-align: top;\n",
       "    }\n",
       "\n",
       "    .dataframe thead th {\n",
       "        text-align: right;\n",
       "    }\n",
       "</style>\n",
       "<table border=\"1\" class=\"dataframe\">\n",
       "  <thead>\n",
       "    <tr style=\"text-align: right;\">\n",
       "      <th></th>\n",
       "      <th>type</th>\n",
       "      <th>setup</th>\n",
       "      <th>encryption</th>\n",
       "      <th>homomorphic</th>\n",
       "      <th>decryption</th>\n",
       "      <th>plaintext</th>\n",
       "      <th>total</th>\n",
       "      <th>value</th>\n",
       "    </tr>\n",
       "  </thead>\n",
       "  <tbody>\n",
       "    <tr>\n",
       "      <th>0</th>\n",
       "      <td>simple-slot</td>\n",
       "      <td>65</td>\n",
       "      <td>77715</td>\n",
       "      <td>6463</td>\n",
       "      <td>1</td>\n",
       "      <td>0</td>\n",
       "      <td>84244</td>\n",
       "      <td>2.0</td>\n",
       "    </tr>\n",
       "    <tr>\n",
       "      <th>1</th>\n",
       "      <td>simple-slot</td>\n",
       "      <td>54</td>\n",
       "      <td>75480</td>\n",
       "      <td>3371</td>\n",
       "      <td>1</td>\n",
       "      <td>0</td>\n",
       "      <td>78906</td>\n",
       "      <td>2.0</td>\n",
       "    </tr>\n",
       "    <tr>\n",
       "      <th>2</th>\n",
       "      <td>simple-slot</td>\n",
       "      <td>55</td>\n",
       "      <td>75476</td>\n",
       "      <td>3304</td>\n",
       "      <td>1</td>\n",
       "      <td>0</td>\n",
       "      <td>78836</td>\n",
       "      <td>2.0</td>\n",
       "    </tr>\n",
       "    <tr>\n",
       "      <th>3</th>\n",
       "      <td>simple-slot</td>\n",
       "      <td>54</td>\n",
       "      <td>75325</td>\n",
       "      <td>3279</td>\n",
       "      <td>2</td>\n",
       "      <td>0</td>\n",
       "      <td>78660</td>\n",
       "      <td>2.0</td>\n",
       "    </tr>\n",
       "    <tr>\n",
       "      <th>4</th>\n",
       "      <td>simple-slot</td>\n",
       "      <td>56</td>\n",
       "      <td>74805</td>\n",
       "      <td>3333</td>\n",
       "      <td>1</td>\n",
       "      <td>0</td>\n",
       "      <td>78195</td>\n",
       "      <td>2.0</td>\n",
       "    </tr>\n",
       "  </tbody>\n",
       "</table>\n",
       "</div>"
      ],
      "text/plain": [
       "          type   setup   encryption   homomorphic   decryption   plaintext  \\\n",
       "0  simple-slot      65        77715          6463            1           0   \n",
       "1  simple-slot      54        75480          3371            1           0   \n",
       "2  simple-slot      55        75476          3304            1           0   \n",
       "3  simple-slot      54        75325          3279            2           0   \n",
       "4  simple-slot      56        74805          3333            1           0   \n",
       "\n",
       "    total   value  \n",
       "0   84244     2.0  \n",
       "1   78906     2.0  \n",
       "2   78836     2.0  \n",
       "3   78660     2.0  \n",
       "4   78195     2.0  "
      ]
     },
     "execution_count": 16,
     "metadata": {},
     "output_type": "execute_result"
    }
   ],
   "source": [
    "mean_DF.head()"
   ]
  },
  {
   "cell_type": "code",
   "execution_count": 17,
   "metadata": {},
   "outputs": [
    {
     "data": {
      "text/plain": [
       "array(['simple-slot', 'simple-coef', 'rot-slot', 'opt-rot-slot',\n",
       "       'opt-coef-rot', 'pre-proc-coef-rot'], dtype=object)"
      ]
     },
     "execution_count": 17,
     "metadata": {},
     "output_type": "execute_result"
    }
   ],
   "source": [
    "mean_DF['type'].unique()"
   ]
  },
  {
   "cell_type": "code",
   "execution_count": null,
   "metadata": {},
   "outputs": [],
   "source": [
    "### Create DF for each type of implementation\n",
    "simple_DF = mean_DF[mean_DF['type'].str.contains('simple')]\n"
   ]
  },
  {
   "attachments": {},
   "cell_type": "markdown",
   "metadata": {},
   "source": [
    "### Conclusion\n",
    "\n",
    "The first is clearly the slowest and it makes sense. We end up having to encrypt n ciphertexts which makes this method incredibly inefficient."
   ]
  }
 ],
 "metadata": {
  "kernelspec": {
   "display_name": "Python 3",
   "language": "python",
   "name": "python3"
  },
  "language_info": {
   "codemirror_mode": {
    "name": "ipython",
    "version": 3
   },
   "file_extension": ".py",
   "mimetype": "text/x-python",
   "name": "python",
   "nbconvert_exporter": "python",
   "pygments_lexer": "ipython3",
   "version": "3.10.2"
  },
  "orig_nbformat": 4
 },
 "nbformat": 4,
 "nbformat_minor": 2
}
