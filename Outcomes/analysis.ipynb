{
 "cells": [
  {
   "attachments": {},
   "cell_type": "markdown",
   "metadata": {},
   "source": [
    "# Thesis Outcomes\n",
    "\n",
    "In this notebook I will compare the result I got from all the algorithms I implemented. \n",
    "\n",
    "I will start by comparing both packing methods with each other. Then i will be comparing the Mean, followed by the Inner Product, and finish with the Variance.\n",
    "\n",
    "For all the algorithms I am working with vector of size n = 8192 which are always filled with exactly 8192 values which can be 1, 2 or 3."
   ]
  },
  {
   "attachments": {},
   "cell_type": "markdown",
   "metadata": {},
   "source": [
    "## Setup"
   ]
  },
  {
   "cell_type": "code",
   "execution_count": 9,
   "metadata": {},
   "outputs": [],
   "source": [
    "# Imports\n",
    "import os\n",
    "import glob\n",
    "import pandas as pd"
   ]
  },
  {
   "cell_type": "code",
   "execution_count": 12,
   "metadata": {},
   "outputs": [],
   "source": [
    "# Function to extract files from folder\n",
    "def get_files(filepath):\n",
    "    all_files = []\n",
    "    for root, dirs, files in os.walk(filepath):\n",
    "            files = glob.glob(os.path.join(root, '*.csv'))\n",
    "            for f in files:\n",
    "                    all_files.append(os.path.abspath(f))\n",
    "    return all_files"
   ]
  },
  {
   "cell_type": "code",
   "execution_count": 33,
   "metadata": {},
   "outputs": [
    {
     "name": "stdout",
     "output_type": "stream",
     "text": [
      "c:\\Users\\berna\\Desktop\\Personal\\FEUP\\Thesis\\Project\\HE_Optimization\\Outcomes\\timeCSVs\\innerProduct.csv\n",
      "c:\\Users\\berna\\Desktop\\Personal\\FEUP\\Thesis\\Project\\HE_Optimization\\Outcomes\\timeCSVs\\mean.csv\n",
      "c:\\Users\\berna\\Desktop\\Personal\\FEUP\\Thesis\\Project\\HE_Optimization\\Outcomes\\timeCSVs\\variance.csv\n"
     ]
    }
   ],
   "source": [
    "# Get file names\n",
    "outcomes_CSV = get_files(\"./timeCSVs\")\n",
    "\n",
    "# Import csv as a Dataframe\n",
    "print(outcomes_CSV[0])\n",
    "inner_Product_DF = pd.read_csv(outcomes_CSV[0])\n",
    "print(outcomes_CSV[1])\n",
    "mean_DF = pd.read_csv(outcomes_CSV[1])\n",
    "print(outcomes_CSV[2])\n",
    "variance_DF = pd.read_csv(outcomes_CSV[2])"
   ]
  },
  {
   "attachments": {},
   "cell_type": "markdown",
   "metadata": {},
   "source": [
    "## Coefficient packing vs Slot packing"
   ]
  },
  {
   "cell_type": "code",
   "execution_count": 35,
   "metadata": {},
   "outputs": [
    {
     "data": {
      "text/html": [
       "<div>\n",
       "<style scoped>\n",
       "    .dataframe tbody tr th:only-of-type {\n",
       "        vertical-align: middle;\n",
       "    }\n",
       "\n",
       "    .dataframe tbody tr th {\n",
       "        vertical-align: top;\n",
       "    }\n",
       "\n",
       "    .dataframe thead th {\n",
       "        text-align: right;\n",
       "    }\n",
       "</style>\n",
       "<table border=\"1\" class=\"dataframe\">\n",
       "  <thead>\n",
       "    <tr style=\"text-align: right;\">\n",
       "      <th></th>\n",
       "      <th>type</th>\n",
       "      <th>setup</th>\n",
       "      <th>encryption</th>\n",
       "      <th>homomorphic</th>\n",
       "      <th>decryption</th>\n",
       "      <th>plaintext</th>\n",
       "      <th>total</th>\n",
       "      <th>value</th>\n",
       "    </tr>\n",
       "  </thead>\n",
       "  <tbody>\n",
       "    <tr>\n",
       "      <th>count</th>\n",
       "      <td>2015</td>\n",
       "      <td>2015</td>\n",
       "      <td>2015</td>\n",
       "      <td>2015</td>\n",
       "      <td>2015</td>\n",
       "      <td>2015</td>\n",
       "      <td>2015</td>\n",
       "      <td>1015.0</td>\n",
       "    </tr>\n",
       "    <tr>\n",
       "      <th>unique</th>\n",
       "      <td>4</td>\n",
       "      <td>122</td>\n",
       "      <td>55</td>\n",
       "      <td>93</td>\n",
       "      <td>11</td>\n",
       "      <td>50</td>\n",
       "      <td>104</td>\n",
       "      <td>2.0</td>\n",
       "    </tr>\n",
       "    <tr>\n",
       "      <th>top</th>\n",
       "      <td>optimized-slot</td>\n",
       "      <td>224</td>\n",
       "      <td>-19</td>\n",
       "      <td>72</td>\n",
       "      <td>0</td>\n",
       "      <td>0</td>\n",
       "      <td>13651</td>\n",
       "      <td>2.0</td>\n",
       "    </tr>\n",
       "    <tr>\n",
       "      <th>freq</th>\n",
       "      <td>1000</td>\n",
       "      <td>146</td>\n",
       "      <td>378</td>\n",
       "      <td>235</td>\n",
       "      <td>1966</td>\n",
       "      <td>1015</td>\n",
       "      <td>1000</td>\n",
       "      <td>1005.0</td>\n",
       "    </tr>\n",
       "  </tbody>\n",
       "</table>\n",
       "</div>"
      ],
      "text/plain": [
       "                  type   setup   encryption   homomorphic   decryption  \\\n",
       "count             2015    2015         2015          2015         2015   \n",
       "unique               4     122           55            93           11   \n",
       "top     optimized-slot     224          -19            72            0   \n",
       "freq              1000     146          378           235         1966   \n",
       "\n",
       "         plaintext   total   value  \n",
       "count         2015    2015  1015.0  \n",
       "unique          50     104     2.0  \n",
       "top              0   13651     2.0  \n",
       "freq          1015    1000  1005.0  "
      ]
     },
     "execution_count": 35,
     "metadata": {},
     "output_type": "execute_result"
    }
   ],
   "source": [
    "# Join all the times from each packing into a DataFrame\n",
    "\n",
    "### Get all the coef times\n",
    "coef_DF = pd.concat([inner_Product_DF[inner_Product_DF['type'].str.contains('coef')], \n",
    "                        mean_DF[mean_DF['type'].str.contains('coef')], \n",
    "                        variance_DF[variance_DF['type'].str.contains('coef')]]\n",
    "                        , ignore_index=True)\n",
    "\n",
    "### Get all the slot times\n",
    "slot_DF = pd.concat([inner_Product_DF[inner_Product_DF['type'].str.contains('slot')], \n",
    "                        mean_DF[mean_DF['type'].str.contains('slot')], \n",
    "                        variance_DF[variance_DF['type'].str.contains('slot')]]\n",
    "                        , ignore_index=True)"
   ]
  },
  {
   "attachments": {},
   "cell_type": "markdown",
   "metadata": {},
   "source": [
    "## Mean\n",
    "\n",
    "For the mean I have 4 types of implementation.\n",
    "\n",
    "The first, and the most naive, is the one where each value is encrypted into a single ciphertext. \n",
    "\n",
    "The second method is where we encrypt only one ciphertext and calculate the total sum by doing n rotations.\n",
    "\n",
    "The third method is where we encrypt only one ciphertext and calculate the total sum by doing log2(n) rotations.\n",
    "\n",
    "The forth method is only applicable to Coefficient Packing because it uses a pre-processing technique that only works with these type of packing."
   ]
  },
  {
   "cell_type": "code",
   "execution_count": 47,
   "metadata": {},
   "outputs": [
    {
     "data": {
      "text/plain": [
       "array(['simple-slot', 'simple-coef', 'rot-slot', 'opt-rot-slot',\n",
       "       'opt-coef-rot', 'pre-proc-coef-rot'], dtype=object)"
      ]
     },
     "execution_count": 47,
     "metadata": {},
     "output_type": "execute_result"
    }
   ],
   "source": [
    "mean_DF['type'].unique()"
   ]
  },
  {
   "cell_type": "code",
   "execution_count": 48,
   "metadata": {},
   "outputs": [
    {
     "data": {
      "text/html": [
       "<div>\n",
       "<style scoped>\n",
       "    .dataframe tbody tr th:only-of-type {\n",
       "        vertical-align: middle;\n",
       "    }\n",
       "\n",
       "    .dataframe tbody tr th {\n",
       "        vertical-align: top;\n",
       "    }\n",
       "\n",
       "    .dataframe thead th {\n",
       "        text-align: right;\n",
       "    }\n",
       "</style>\n",
       "<table border=\"1\" class=\"dataframe\">\n",
       "  <thead>\n",
       "    <tr style=\"text-align: right;\">\n",
       "      <th></th>\n",
       "      <th>type</th>\n",
       "      <th>setup</th>\n",
       "      <th>encryption</th>\n",
       "      <th>homomorphic</th>\n",
       "      <th>decryption</th>\n",
       "      <th>plaintext</th>\n",
       "      <th>total</th>\n",
       "      <th>value</th>\n",
       "    </tr>\n",
       "  </thead>\n",
       "  <tbody>\n",
       "    <tr>\n",
       "      <th>20</th>\n",
       "      <td>opt-rot-slot</td>\n",
       "      <td>280</td>\n",
       "      <td>12</td>\n",
       "      <td>72</td>\n",
       "      <td>1</td>\n",
       "      <td>0</td>\n",
       "      <td>365</td>\n",
       "      <td>2.0</td>\n",
       "    </tr>\n",
       "    <tr>\n",
       "      <th>21</th>\n",
       "      <td>opt-rot-slot</td>\n",
       "      <td>283</td>\n",
       "      <td>12</td>\n",
       "      <td>70</td>\n",
       "      <td>1</td>\n",
       "      <td>0</td>\n",
       "      <td>366</td>\n",
       "      <td>2.0</td>\n",
       "    </tr>\n",
       "    <tr>\n",
       "      <th>22</th>\n",
       "      <td>opt-rot-slot</td>\n",
       "      <td>284</td>\n",
       "      <td>11</td>\n",
       "      <td>74</td>\n",
       "      <td>1</td>\n",
       "      <td>0</td>\n",
       "      <td>370</td>\n",
       "      <td>2.0</td>\n",
       "    </tr>\n",
       "    <tr>\n",
       "      <th>23</th>\n",
       "      <td>opt-rot-slot</td>\n",
       "      <td>287</td>\n",
       "      <td>12</td>\n",
       "      <td>84</td>\n",
       "      <td>1</td>\n",
       "      <td>0</td>\n",
       "      <td>384</td>\n",
       "      <td>2.0</td>\n",
       "    </tr>\n",
       "    <tr>\n",
       "      <th>24</th>\n",
       "      <td>opt-rot-slot</td>\n",
       "      <td>281</td>\n",
       "      <td>12</td>\n",
       "      <td>73</td>\n",
       "      <td>1</td>\n",
       "      <td>0</td>\n",
       "      <td>367</td>\n",
       "      <td>2.0</td>\n",
       "    </tr>\n",
       "    <tr>\n",
       "      <th>...</th>\n",
       "      <td>...</td>\n",
       "      <td>...</td>\n",
       "      <td>...</td>\n",
       "      <td>...</td>\n",
       "      <td>...</td>\n",
       "      <td>...</td>\n",
       "      <td>...</td>\n",
       "      <td>...</td>\n",
       "    </tr>\n",
       "    <tr>\n",
       "      <th>1015</th>\n",
       "      <td>opt-rot-slot</td>\n",
       "      <td>279</td>\n",
       "      <td>11</td>\n",
       "      <td>71</td>\n",
       "      <td>1</td>\n",
       "      <td>0</td>\n",
       "      <td>362</td>\n",
       "      <td>2.0</td>\n",
       "    </tr>\n",
       "    <tr>\n",
       "      <th>1016</th>\n",
       "      <td>opt-rot-slot</td>\n",
       "      <td>289</td>\n",
       "      <td>11</td>\n",
       "      <td>74</td>\n",
       "      <td>1</td>\n",
       "      <td>0</td>\n",
       "      <td>375</td>\n",
       "      <td>2.0</td>\n",
       "    </tr>\n",
       "    <tr>\n",
       "      <th>1017</th>\n",
       "      <td>opt-rot-slot</td>\n",
       "      <td>281</td>\n",
       "      <td>12</td>\n",
       "      <td>75</td>\n",
       "      <td>1</td>\n",
       "      <td>0</td>\n",
       "      <td>369</td>\n",
       "      <td>2.0</td>\n",
       "    </tr>\n",
       "    <tr>\n",
       "      <th>1018</th>\n",
       "      <td>opt-rot-slot</td>\n",
       "      <td>297</td>\n",
       "      <td>11</td>\n",
       "      <td>71</td>\n",
       "      <td>1</td>\n",
       "      <td>0</td>\n",
       "      <td>380</td>\n",
       "      <td>2.0</td>\n",
       "    </tr>\n",
       "    <tr>\n",
       "      <th>1019</th>\n",
       "      <td>opt-rot-slot</td>\n",
       "      <td>276</td>\n",
       "      <td>12</td>\n",
       "      <td>73</td>\n",
       "      <td>1</td>\n",
       "      <td>0</td>\n",
       "      <td>362</td>\n",
       "      <td>2.0</td>\n",
       "    </tr>\n",
       "  </tbody>\n",
       "</table>\n",
       "<p>1000 rows × 8 columns</p>\n",
       "</div>"
      ],
      "text/plain": [
       "              type   setup   encryption   homomorphic   decryption  \\\n",
       "20    opt-rot-slot     280           12            72            1   \n",
       "21    opt-rot-slot     283           12            70            1   \n",
       "22    opt-rot-slot     284           11            74            1   \n",
       "23    opt-rot-slot     287           12            84            1   \n",
       "24    opt-rot-slot     281           12            73            1   \n",
       "...            ...     ...          ...           ...          ...   \n",
       "1015  opt-rot-slot     279           11            71            1   \n",
       "1016  opt-rot-slot     289           11            74            1   \n",
       "1017  opt-rot-slot     281           12            75            1   \n",
       "1018  opt-rot-slot     297           11            71            1   \n",
       "1019  opt-rot-slot     276           12            73            1   \n",
       "\n",
       "       plaintext   total   value  \n",
       "20             0     365     2.0  \n",
       "21             0     366     2.0  \n",
       "22             0     370     2.0  \n",
       "23             0     384     2.0  \n",
       "24             0     367     2.0  \n",
       "...          ...     ...     ...  \n",
       "1015           0     362     2.0  \n",
       "1016           0     375     2.0  \n",
       "1017           0     369     2.0  \n",
       "1018           0     380     2.0  \n",
       "1019           0     362     2.0  \n",
       "\n",
       "[1000 rows x 8 columns]"
      ]
     },
     "execution_count": 48,
     "metadata": {},
     "output_type": "execute_result"
    }
   ],
   "source": [
    "mean_DF[mean_DF['type'] == \"opt-rot-slot\"]"
   ]
  },
  {
   "cell_type": "code",
   "execution_count": 53,
   "metadata": {},
   "outputs": [
    {
     "ename": "KeyError",
     "evalue": "False",
     "output_type": "error",
     "traceback": [
      "\u001b[1;31m---------------------------------------------------------------------------\u001b[0m",
      "\u001b[1;31mKeyError\u001b[0m                                  Traceback (most recent call last)",
      "File \u001b[1;32m~\\AppData\\Roaming\\Python\\Python310\\site-packages\\pandas\\core\\indexes\\base.py:3621\u001b[0m, in \u001b[0;36mIndex.get_loc\u001b[1;34m(self, key, method, tolerance)\u001b[0m\n\u001b[0;32m   3620\u001b[0m \u001b[39mtry\u001b[39;00m:\n\u001b[1;32m-> 3621\u001b[0m     \u001b[39mreturn\u001b[39;00m \u001b[39mself\u001b[39;49m\u001b[39m.\u001b[39;49m_engine\u001b[39m.\u001b[39;49mget_loc(casted_key)\n\u001b[0;32m   3622\u001b[0m \u001b[39mexcept\u001b[39;00m \u001b[39mKeyError\u001b[39;00m \u001b[39mas\u001b[39;00m err:\n",
      "File \u001b[1;32m~\\AppData\\Roaming\\Python\\Python310\\site-packages\\pandas\\_libs\\index.pyx:136\u001b[0m, in \u001b[0;36mpandas._libs.index.IndexEngine.get_loc\u001b[1;34m()\u001b[0m\n",
      "File \u001b[1;32m~\\AppData\\Roaming\\Python\\Python310\\site-packages\\pandas\\_libs\\index.pyx:163\u001b[0m, in \u001b[0;36mpandas._libs.index.IndexEngine.get_loc\u001b[1;34m()\u001b[0m\n",
      "File \u001b[1;32mpandas\\_libs\\hashtable_class_helper.pxi:5198\u001b[0m, in \u001b[0;36mpandas._libs.hashtable.PyObjectHashTable.get_item\u001b[1;34m()\u001b[0m\n",
      "File \u001b[1;32mpandas\\_libs\\hashtable_class_helper.pxi:5206\u001b[0m, in \u001b[0;36mpandas._libs.hashtable.PyObjectHashTable.get_item\u001b[1;34m()\u001b[0m\n",
      "\u001b[1;31mKeyError\u001b[0m: False",
      "\nThe above exception was the direct cause of the following exception:\n",
      "\u001b[1;31mKeyError\u001b[0m                                  Traceback (most recent call last)",
      "\u001b[1;32mc:\\Users\\berna\\Desktop\\Personal\\FEUP\\Thesis\\Project\\HE_Optimization\\Outcomes\\analysis.ipynb Cell 11\u001b[0m in \u001b[0;36m<cell line: 4>\u001b[1;34m()\u001b[0m\n\u001b[0;32m      <a href='vscode-notebook-cell:/c%3A/Users/berna/Desktop/Personal/FEUP/Thesis/Project/HE_Optimization/Outcomes/analysis.ipynb#X20sZmlsZQ%3D%3D?line=1'>2</a>\u001b[0m simple_DF \u001b[39m=\u001b[39m mean_DF[mean_DF[\u001b[39m'\u001b[39m\u001b[39mtype\u001b[39m\u001b[39m'\u001b[39m]\u001b[39m.\u001b[39mstr\u001b[39m.\u001b[39mcontains(\u001b[39m'\u001b[39m\u001b[39msimple\u001b[39m\u001b[39m'\u001b[39m)]\n\u001b[0;32m      <a href='vscode-notebook-cell:/c%3A/Users/berna/Desktop/Personal/FEUP/Thesis/Project/HE_Optimization/Outcomes/analysis.ipynb#X20sZmlsZQ%3D%3D?line=2'>3</a>\u001b[0m opt_rot_DF \u001b[39m=\u001b[39m mean_DF[mean_DF[\u001b[39m'\u001b[39m\u001b[39mtype\u001b[39m\u001b[39m'\u001b[39m] \u001b[39m==\u001b[39m \u001b[39m\"\u001b[39m\u001b[39mopt-rot-slot\u001b[39m\u001b[39m\"\u001b[39m]\n\u001b[1;32m----> <a href='vscode-notebook-cell:/c%3A/Users/berna/Desktop/Personal/FEUP/Thesis/Project/HE_Optimization/Outcomes/analysis.ipynb#X20sZmlsZQ%3D%3D?line=3'>4</a>\u001b[0m pre_proc_DF \u001b[39m=\u001b[39m mean_DF[mean_DF[\u001b[39m'\u001b[39;49m\u001b[39mtype\u001b[39;49m\u001b[39m'\u001b[39;49m]\u001b[39m.\u001b[39;49mstr \u001b[39m==\u001b[39;49m\u001b[39m'\u001b[39;49m\u001b[39mpre-proc-coef\u001b[39;49m\u001b[39m'\u001b[39;49m]\n\u001b[0;32m      <a href='vscode-notebook-cell:/c%3A/Users/berna/Desktop/Personal/FEUP/Thesis/Project/HE_Optimization/Outcomes/analysis.ipynb#X20sZmlsZQ%3D%3D?line=5'>6</a>\u001b[0m implementation_dfs \u001b[39m=\u001b[39m {\u001b[39m'\u001b[39m\u001b[39msimple\u001b[39m\u001b[39m'\u001b[39m: simple_DF, \u001b[39m'\u001b[39m\u001b[39moptimized\u001b[39m\u001b[39m'\u001b[39m: opt_rot_DF, \u001b[39m'\u001b[39m\u001b[39mrotation\u001b[39m\u001b[39m'\u001b[39m: rot_DF, \u001b[39m'\u001b[39m\u001b[39mpre_processed\u001b[39m\u001b[39m'\u001b[39m: pre_proc_DF}\n",
      "File \u001b[1;32m~\\AppData\\Roaming\\Python\\Python310\\site-packages\\pandas\\core\\frame.py:3505\u001b[0m, in \u001b[0;36mDataFrame.__getitem__\u001b[1;34m(self, key)\u001b[0m\n\u001b[0;32m   3503\u001b[0m \u001b[39mif\u001b[39;00m \u001b[39mself\u001b[39m\u001b[39m.\u001b[39mcolumns\u001b[39m.\u001b[39mnlevels \u001b[39m>\u001b[39m \u001b[39m1\u001b[39m:\n\u001b[0;32m   3504\u001b[0m     \u001b[39mreturn\u001b[39;00m \u001b[39mself\u001b[39m\u001b[39m.\u001b[39m_getitem_multilevel(key)\n\u001b[1;32m-> 3505\u001b[0m indexer \u001b[39m=\u001b[39m \u001b[39mself\u001b[39;49m\u001b[39m.\u001b[39;49mcolumns\u001b[39m.\u001b[39;49mget_loc(key)\n\u001b[0;32m   3506\u001b[0m \u001b[39mif\u001b[39;00m is_integer(indexer):\n\u001b[0;32m   3507\u001b[0m     indexer \u001b[39m=\u001b[39m [indexer]\n",
      "File \u001b[1;32m~\\AppData\\Roaming\\Python\\Python310\\site-packages\\pandas\\core\\indexes\\base.py:3623\u001b[0m, in \u001b[0;36mIndex.get_loc\u001b[1;34m(self, key, method, tolerance)\u001b[0m\n\u001b[0;32m   3621\u001b[0m     \u001b[39mreturn\u001b[39;00m \u001b[39mself\u001b[39m\u001b[39m.\u001b[39m_engine\u001b[39m.\u001b[39mget_loc(casted_key)\n\u001b[0;32m   3622\u001b[0m \u001b[39mexcept\u001b[39;00m \u001b[39mKeyError\u001b[39;00m \u001b[39mas\u001b[39;00m err:\n\u001b[1;32m-> 3623\u001b[0m     \u001b[39mraise\u001b[39;00m \u001b[39mKeyError\u001b[39;00m(key) \u001b[39mfrom\u001b[39;00m \u001b[39merr\u001b[39;00m\n\u001b[0;32m   3624\u001b[0m \u001b[39mexcept\u001b[39;00m \u001b[39mTypeError\u001b[39;00m:\n\u001b[0;32m   3625\u001b[0m     \u001b[39m# If we have a listlike key, _check_indexing_error will raise\u001b[39;00m\n\u001b[0;32m   3626\u001b[0m     \u001b[39m#  InvalidIndexError. Otherwise we fall through and re-raise\u001b[39;00m\n\u001b[0;32m   3627\u001b[0m     \u001b[39m#  the TypeError.\u001b[39;00m\n\u001b[0;32m   3628\u001b[0m     \u001b[39mself\u001b[39m\u001b[39m.\u001b[39m_check_indexing_error(key)\n",
      "\u001b[1;31mKeyError\u001b[0m: False"
     ]
    }
   ],
   "source": [
    "### Create DF for each type of implementation\n",
    "simple_DF = mean_DF[mean_DF['type'].str.contains('simple')]\n",
    "opt_rot_DF = pd.concat([\n",
    "    mean_DF[mean_DF['type'] == \"opt-rot-slot\"], \n",
    "    mean_DF[mean_DF['type'] == \"opt-coef-rot\"]\n",
    "    ])\n",
    "rot_DF = pd.concat([\n",
    "    mean_DF[mean_DF['type'] == \"rot-slot\"], \n",
    "    mean_DF[mean_DF['type'] == \"coef-rot\"]\n",
    "    ], ignore_index=True)\n",
    "pre_proc_DF = mean_DF[mean_DF['type'].str =='pre-proc-coef']\n",
    "\n",
    "implementation_dfs = {'simple': simple_DF, 'optimized': opt_rot_DF, 'rotation': rot_DF, 'pre_processed': pre_proc_DF}"
   ]
  },
  {
   "attachments": {},
   "cell_type": "markdown",
   "metadata": {},
   "source": [
    "### Total Time Comparison"
   ]
  },
  {
   "cell_type": "code",
   "execution_count": null,
   "metadata": {},
   "outputs": [],
   "source": [
    "implementation_averages = {}\n",
    "\n",
    "for name, df in implementation_dfs.items():\n",
    "    implementation_averages[name] = df[' total'].mean()\n",
    "\n",
    "implementation_averages"
   ]
  },
  {
   "attachments": {},
   "cell_type": "markdown",
   "metadata": {},
   "source": [
    "### Setup"
   ]
  },
  {
   "attachments": {},
   "cell_type": "markdown",
   "metadata": {},
   "source": [
    "### Encryption"
   ]
  },
  {
   "attachments": {},
   "cell_type": "markdown",
   "metadata": {},
   "source": [
    "### Homomorphic Operations"
   ]
  },
  {
   "attachments": {},
   "cell_type": "markdown",
   "metadata": {},
   "source": []
  },
  {
   "cell_type": "code",
   "execution_count": null,
   "metadata": {},
   "outputs": [],
   "source": []
  },
  {
   "attachments": {},
   "cell_type": "markdown",
   "metadata": {},
   "source": [
    "### Conclusion\n",
    "\n",
    "The first is clearly the slowest and it makes sense. We end up having to encrypt n ciphertexts which makes this method incredibly inefficient."
   ]
  }
 ],
 "metadata": {
  "kernelspec": {
   "display_name": "Python 3",
   "language": "python",
   "name": "python3"
  },
  "language_info": {
   "codemirror_mode": {
    "name": "ipython",
    "version": 3
   },
   "file_extension": ".py",
   "mimetype": "text/x-python",
   "name": "python",
   "nbconvert_exporter": "python",
   "pygments_lexer": "ipython3",
   "version": "3.10.2"
  },
  "orig_nbformat": 4
 },
 "nbformat": 4,
 "nbformat_minor": 2
}
