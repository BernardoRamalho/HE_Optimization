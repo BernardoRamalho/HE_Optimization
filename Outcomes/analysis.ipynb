{
 "cells": [
  {
   "attachments": {},
   "cell_type": "markdown",
   "metadata": {},
   "source": [
    "# Thesis Outcomes\n",
    "\n",
    "In this notebook I will compare the result I got from all the algorithms I implemented. \n",
    "\n",
    "I will start by comparing both packing methods with each other. Then i will be comparing the Mean, followed by the Inner Product, and finish with the Variance.\n",
    "\n",
    "For all the algorithms I am working with vector of size n = 8192 which are always filled with exactly 8192 values which can be 1, 2 or 3."
   ]
  },
  {
   "attachments": {},
   "cell_type": "markdown",
   "metadata": {},
   "source": [
    "## Setup"
   ]
  },
  {
   "cell_type": "code",
   "execution_count": 54,
   "metadata": {},
   "outputs": [],
   "source": [
    "# Imports\n",
    "import os\n",
    "import glob\n",
    "import pandas as pd"
   ]
  },
  {
   "cell_type": "code",
   "execution_count": 55,
   "metadata": {},
   "outputs": [],
   "source": [
    "# Function to extract files from folder\n",
    "def get_files(filepath):\n",
    "    all_files = []\n",
    "    for root, dirs, files in os.walk(filepath):\n",
    "            files = glob.glob(os.path.join(root, '*.csv'))\n",
    "            for f in files:\n",
    "                    all_files.append(os.path.abspath(f))\n",
    "    return all_files"
   ]
  },
  {
   "cell_type": "code",
   "execution_count": 56,
   "metadata": {},
   "outputs": [
    {
     "name": "stdout",
     "output_type": "stream",
     "text": [
      "c:\\Users\\berna\\Desktop\\Personal\\FEUP\\Thesis\\Project\\HE_Optimization\\Outcomes\\timeCSVs\\innerProduct.csv\n",
      "c:\\Users\\berna\\Desktop\\Personal\\FEUP\\Thesis\\Project\\HE_Optimization\\Outcomes\\timeCSVs\\mean.csv\n",
      "c:\\Users\\berna\\Desktop\\Personal\\FEUP\\Thesis\\Project\\HE_Optimization\\Outcomes\\timeCSVs\\variance.csv\n"
     ]
    }
   ],
   "source": [
    "# Get file names\n",
    "outcomes_CSV = get_files(\"./timeCSVs\")\n",
    "\n",
    "# Import csv as a Dataframe\n",
    "print(outcomes_CSV[0])\n",
    "inner_Product_DF = pd.read_csv(outcomes_CSV[0])\n",
    "print(outcomes_CSV[1])\n",
    "mean_DF = pd.read_csv(outcomes_CSV[1])\n",
    "print(outcomes_CSV[2])\n",
    "variance_DF = pd.read_csv(outcomes_CSV[2])"
   ]
  },
  {
   "attachments": {},
   "cell_type": "markdown",
   "metadata": {},
   "source": [
    "## Coefficient packing vs Slot packing"
   ]
  },
  {
   "cell_type": "code",
   "execution_count": 57,
   "metadata": {},
   "outputs": [],
   "source": [
    "# Join all the times from each packing into a DataFrame\n",
    "\n",
    "### Get all the coef times\n",
    "coef_DF = pd.concat([inner_Product_DF[inner_Product_DF['type'].str.contains('coef')], \n",
    "                        mean_DF[mean_DF['type'].str.contains('coef')], \n",
    "                        variance_DF[variance_DF['type'].str.contains('coef')]]\n",
    "                        , ignore_index=True)\n",
    "\n",
    "### Get all the slot times\n",
    "slot_DF = pd.concat([inner_Product_DF[inner_Product_DF['type'].str.contains('slot')], \n",
    "                        mean_DF[mean_DF['type'].str.contains('slot')], \n",
    "                        variance_DF[variance_DF['type'].str.contains('slot')]]\n",
    "                        , ignore_index=True)"
   ]
  },
  {
   "attachments": {},
   "cell_type": "markdown",
   "metadata": {},
   "source": [
    "## Mean\n",
    "\n",
    "For the mean I have 4 types of implementation.\n",
    "\n",
    "The first, and the most naive, is the one where each value is encrypted into a single ciphertext. \n",
    "\n",
    "The second method is where we encrypt only one ciphertext and calculate the total sum by doing n rotations.\n",
    "\n",
    "The third method is where we encrypt only one ciphertext and calculate the total sum by doing log2(n) rotations.\n",
    "\n",
    "The forth method is only applicable to Coefficient Packing because it uses a pre-processing technique that only works with these type of packing."
   ]
  },
  {
   "cell_type": "code",
   "execution_count": 58,
   "metadata": {},
   "outputs": [
    {
     "data": {
      "text/plain": [
       "array(['simple-slot', 'simple-coef', 'rot-slot', 'opt-rot-slot',\n",
       "       'opt-coef-rot', 'pre-proc-coef', 'coef-rot'], dtype=object)"
      ]
     },
     "execution_count": 58,
     "metadata": {},
     "output_type": "execute_result"
    }
   ],
   "source": [
    "mean_DF['type'].unique()"
   ]
  },
  {
   "cell_type": "code",
   "execution_count": 59,
   "metadata": {},
   "outputs": [
    {
     "data": {
      "text/html": [
       "<div>\n",
       "<style scoped>\n",
       "    .dataframe tbody tr th:only-of-type {\n",
       "        vertical-align: middle;\n",
       "    }\n",
       "\n",
       "    .dataframe tbody tr th {\n",
       "        vertical-align: top;\n",
       "    }\n",
       "\n",
       "    .dataframe thead th {\n",
       "        text-align: right;\n",
       "    }\n",
       "</style>\n",
       "<table border=\"1\" class=\"dataframe\">\n",
       "  <thead>\n",
       "    <tr style=\"text-align: right;\">\n",
       "      <th></th>\n",
       "      <th>type</th>\n",
       "      <th>setup</th>\n",
       "      <th>encryption</th>\n",
       "      <th>homomorphic</th>\n",
       "      <th>decryption</th>\n",
       "      <th>plaintext</th>\n",
       "      <th>total</th>\n",
       "      <th>value</th>\n",
       "    </tr>\n",
       "  </thead>\n",
       "  <tbody>\n",
       "    <tr>\n",
       "      <th>20</th>\n",
       "      <td>opt-rot-slot</td>\n",
       "      <td>280</td>\n",
       "      <td>12</td>\n",
       "      <td>72</td>\n",
       "      <td>1</td>\n",
       "      <td>0</td>\n",
       "      <td>365</td>\n",
       "      <td>2.0</td>\n",
       "    </tr>\n",
       "    <tr>\n",
       "      <th>21</th>\n",
       "      <td>opt-rot-slot</td>\n",
       "      <td>283</td>\n",
       "      <td>12</td>\n",
       "      <td>70</td>\n",
       "      <td>1</td>\n",
       "      <td>0</td>\n",
       "      <td>366</td>\n",
       "      <td>2.0</td>\n",
       "    </tr>\n",
       "    <tr>\n",
       "      <th>22</th>\n",
       "      <td>opt-rot-slot</td>\n",
       "      <td>284</td>\n",
       "      <td>11</td>\n",
       "      <td>74</td>\n",
       "      <td>1</td>\n",
       "      <td>0</td>\n",
       "      <td>370</td>\n",
       "      <td>2.0</td>\n",
       "    </tr>\n",
       "    <tr>\n",
       "      <th>23</th>\n",
       "      <td>opt-rot-slot</td>\n",
       "      <td>287</td>\n",
       "      <td>12</td>\n",
       "      <td>84</td>\n",
       "      <td>1</td>\n",
       "      <td>0</td>\n",
       "      <td>384</td>\n",
       "      <td>2.0</td>\n",
       "    </tr>\n",
       "    <tr>\n",
       "      <th>24</th>\n",
       "      <td>opt-rot-slot</td>\n",
       "      <td>281</td>\n",
       "      <td>12</td>\n",
       "      <td>73</td>\n",
       "      <td>1</td>\n",
       "      <td>0</td>\n",
       "      <td>367</td>\n",
       "      <td>2.0</td>\n",
       "    </tr>\n",
       "    <tr>\n",
       "      <th>...</th>\n",
       "      <td>...</td>\n",
       "      <td>...</td>\n",
       "      <td>...</td>\n",
       "      <td>...</td>\n",
       "      <td>...</td>\n",
       "      <td>...</td>\n",
       "      <td>...</td>\n",
       "      <td>...</td>\n",
       "    </tr>\n",
       "    <tr>\n",
       "      <th>1015</th>\n",
       "      <td>opt-rot-slot</td>\n",
       "      <td>279</td>\n",
       "      <td>11</td>\n",
       "      <td>71</td>\n",
       "      <td>1</td>\n",
       "      <td>0</td>\n",
       "      <td>362</td>\n",
       "      <td>2.0</td>\n",
       "    </tr>\n",
       "    <tr>\n",
       "      <th>1016</th>\n",
       "      <td>opt-rot-slot</td>\n",
       "      <td>289</td>\n",
       "      <td>11</td>\n",
       "      <td>74</td>\n",
       "      <td>1</td>\n",
       "      <td>0</td>\n",
       "      <td>375</td>\n",
       "      <td>2.0</td>\n",
       "    </tr>\n",
       "    <tr>\n",
       "      <th>1017</th>\n",
       "      <td>opt-rot-slot</td>\n",
       "      <td>281</td>\n",
       "      <td>12</td>\n",
       "      <td>75</td>\n",
       "      <td>1</td>\n",
       "      <td>0</td>\n",
       "      <td>369</td>\n",
       "      <td>2.0</td>\n",
       "    </tr>\n",
       "    <tr>\n",
       "      <th>1018</th>\n",
       "      <td>opt-rot-slot</td>\n",
       "      <td>297</td>\n",
       "      <td>11</td>\n",
       "      <td>71</td>\n",
       "      <td>1</td>\n",
       "      <td>0</td>\n",
       "      <td>380</td>\n",
       "      <td>2.0</td>\n",
       "    </tr>\n",
       "    <tr>\n",
       "      <th>1019</th>\n",
       "      <td>opt-rot-slot</td>\n",
       "      <td>276</td>\n",
       "      <td>12</td>\n",
       "      <td>73</td>\n",
       "      <td>1</td>\n",
       "      <td>0</td>\n",
       "      <td>362</td>\n",
       "      <td>2.0</td>\n",
       "    </tr>\n",
       "  </tbody>\n",
       "</table>\n",
       "<p>1000 rows × 8 columns</p>\n",
       "</div>"
      ],
      "text/plain": [
       "              type   setup   encryption   homomorphic   decryption  \\\n",
       "20    opt-rot-slot     280           12            72            1   \n",
       "21    opt-rot-slot     283           12            70            1   \n",
       "22    opt-rot-slot     284           11            74            1   \n",
       "23    opt-rot-slot     287           12            84            1   \n",
       "24    opt-rot-slot     281           12            73            1   \n",
       "...            ...     ...          ...           ...          ...   \n",
       "1015  opt-rot-slot     279           11            71            1   \n",
       "1016  opt-rot-slot     289           11            74            1   \n",
       "1017  opt-rot-slot     281           12            75            1   \n",
       "1018  opt-rot-slot     297           11            71            1   \n",
       "1019  opt-rot-slot     276           12            73            1   \n",
       "\n",
       "       plaintext   total   value  \n",
       "20             0     365     2.0  \n",
       "21             0     366     2.0  \n",
       "22             0     370     2.0  \n",
       "23             0     384     2.0  \n",
       "24             0     367     2.0  \n",
       "...          ...     ...     ...  \n",
       "1015           0     362     2.0  \n",
       "1016           0     375     2.0  \n",
       "1017           0     369     2.0  \n",
       "1018           0     380     2.0  \n",
       "1019           0     362     2.0  \n",
       "\n",
       "[1000 rows x 8 columns]"
      ]
     },
     "execution_count": 59,
     "metadata": {},
     "output_type": "execute_result"
    }
   ],
   "source": [
    "mean_DF[mean_DF['type'] == \"opt-rot-slot\"]"
   ]
  },
  {
   "cell_type": "code",
   "execution_count": 61,
   "metadata": {},
   "outputs": [],
   "source": [
    "### Create DF for each type of implementation\n",
    "simple_DF = mean_DF[mean_DF['type'].str.contains('simple')]\n",
    "opt_rot_DF = pd.concat([\n",
    "    mean_DF[mean_DF['type'] == \"opt-rot-slot\"], \n",
    "    mean_DF[mean_DF['type'] == \"opt-coef-rot\"]\n",
    "    ])\n",
    "rot_DF = pd.concat([\n",
    "    mean_DF[mean_DF['type'] == \"rot-slot\"], \n",
    "    mean_DF[mean_DF['type'] == \"coef-rot\"]\n",
    "    ], ignore_index=True)\n",
    "pre_proc_DF = mean_DF[mean_DF['type'] =='pre-proc-coef']\n",
    "\n",
    "implementation_dfs = {'simple': simple_DF, 'optimized': opt_rot_DF, 'rotation': rot_DF, 'pre_processed': pre_proc_DF}"
   ]
  },
  {
   "attachments": {},
   "cell_type": "markdown",
   "metadata": {},
   "source": [
    "### Total Time Comparison"
   ]
  },
  {
   "cell_type": "code",
   "execution_count": 62,
   "metadata": {},
   "outputs": [
    {
     "data": {
      "text/plain": [
       "{'simple': 103831.9,\n",
       " 'optimized': 278.8685,\n",
       " 'rotation': 55943.7,\n",
       " 'pre_processed': 78.151}"
      ]
     },
     "execution_count": 62,
     "metadata": {},
     "output_type": "execute_result"
    }
   ],
   "source": [
    "implementation_averages = {}\n",
    "\n",
    "for name, df in implementation_dfs.items():\n",
    "    implementation_averages[name] = df[' total'].mean()\n",
    "\n",
    "implementation_averages"
   ]
  },
  {
   "attachments": {},
   "cell_type": "markdown",
   "metadata": {},
   "source": [
    "### Setup"
   ]
  },
  {
   "attachments": {},
   "cell_type": "markdown",
   "metadata": {},
   "source": [
    "### Encryption"
   ]
  },
  {
   "attachments": {},
   "cell_type": "markdown",
   "metadata": {},
   "source": [
    "### Homomorphic Operations"
   ]
  },
  {
   "attachments": {},
   "cell_type": "markdown",
   "metadata": {},
   "source": []
  },
  {
   "cell_type": "code",
   "execution_count": null,
   "metadata": {},
   "outputs": [],
   "source": []
  },
  {
   "attachments": {},
   "cell_type": "markdown",
   "metadata": {},
   "source": [
    "### Conclusion\n",
    "\n",
    "The first is clearly the slowest and it makes sense. We end up having to encrypt n ciphertexts which makes this method incredibly inefficient."
   ]
  }
 ],
 "metadata": {
  "kernelspec": {
   "display_name": "Python 3",
   "language": "python",
   "name": "python3"
  },
  "language_info": {
   "codemirror_mode": {
    "name": "ipython",
    "version": 3
   },
   "file_extension": ".py",
   "mimetype": "text/x-python",
   "name": "python",
   "nbconvert_exporter": "python",
   "pygments_lexer": "ipython3",
   "version": "3.10.2"
  },
  "orig_nbformat": 4
 },
 "nbformat": 4,
 "nbformat_minor": 2
}
